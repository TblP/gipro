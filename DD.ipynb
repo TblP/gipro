{
 "cells": [
  {
   "cell_type": "code",
   "execution_count": 41,
   "metadata": {
    "collapsed": true
   },
   "outputs": [
    {
     "data": {
      "text/plain": "         N17636 N17637 N17638 N02052  N20646 N02053 N18639 N18640 N18641  \\\nN17636      NaN    NaN    NaN  83.85     NaN    NaN    NaN    NaN    NaN   \nN17637  122.109    NaN  97.59    NaN     NaN    NaN    NaN    NaN    NaN   \nN17638      NaN    NaN    NaN    NaN  113.98    NaN    NaN    NaN    NaN   \nN02052      NaN    NaN    NaN    NaN     NaN    NaN    NaN    NaN    NaN   \nN20646      NaN    NaN    NaN    NaN     NaN    NaN    NaN    NaN    NaN   \n...         ...    ...    ...    ...     ...    ...    ...    ...    ...   \nN10463      NaN    NaN    NaN    NaN     NaN    NaN    NaN    NaN    NaN   \nN10464      NaN    NaN    NaN    NaN     NaN    NaN    NaN    NaN    NaN   \nN10465      NaN    NaN    NaN    NaN     NaN    NaN    NaN    NaN    NaN   \nN10466      NaN    NaN    NaN    NaN     NaN    NaN    NaN    NaN    NaN   \nN11525      NaN    NaN    NaN    NaN     NaN    NaN    NaN    NaN    NaN   \n\n       N18642  ... N10458 N10459 N10460 N10461 N10462 N10463 N10464 N10465  \\\nN17636    NaN  ...    NaN    NaN    NaN    NaN    NaN    NaN    NaN    NaN   \nN17637    NaN  ...    NaN    NaN    NaN    NaN    NaN    NaN    NaN    NaN   \nN17638    NaN  ...    NaN    NaN    NaN    NaN    NaN    NaN    NaN    NaN   \nN02052    NaN  ...    NaN    NaN    NaN    NaN    NaN    NaN    NaN    NaN   \nN20646    NaN  ...    NaN    NaN    NaN    NaN    NaN    NaN    NaN    NaN   \n...       ...  ...    ...    ...    ...    ...    ...    ...    ...    ...   \nN10463    NaN  ...    NaN    NaN    NaN    NaN    NaN    NaN   6.49    NaN   \nN10464    NaN  ...    NaN    NaN    NaN    NaN    NaN    NaN    NaN    NaN   \nN10465    NaN  ...    NaN    NaN    NaN    NaN    NaN    NaN    NaN    NaN   \nN10466    NaN  ...    NaN    NaN    NaN    NaN    NaN    NaN    NaN    NaN   \nN11525    NaN  ...    NaN    NaN    NaN    NaN    NaN    NaN    NaN    NaN   \n\n       N10466 N11525  \nN17636    NaN    NaN  \nN17637    NaN    NaN  \nN17638    NaN    NaN  \nN02052    NaN    NaN  \nN20646    NaN    NaN  \n...       ...    ...  \nN10463    NaN    NaN  \nN10464    NaN    NaN  \nN10465    NaN    NaN  \nN10466    NaN    NaN  \nN11525    NaN    NaN  \n\n[673 rows x 673 columns]",
      "text/html": "<div>\n<style scoped>\n    .dataframe tbody tr th:only-of-type {\n        vertical-align: middle;\n    }\n\n    .dataframe tbody tr th {\n        vertical-align: top;\n    }\n\n    .dataframe thead th {\n        text-align: right;\n    }\n</style>\n<table border=\"1\" class=\"dataframe\">\n  <thead>\n    <tr style=\"text-align: right;\">\n      <th></th>\n      <th>N17636</th>\n      <th>N17637</th>\n      <th>N17638</th>\n      <th>N02052</th>\n      <th>N20646</th>\n      <th>N02053</th>\n      <th>N18639</th>\n      <th>N18640</th>\n      <th>N18641</th>\n      <th>N18642</th>\n      <th>...</th>\n      <th>N10458</th>\n      <th>N10459</th>\n      <th>N10460</th>\n      <th>N10461</th>\n      <th>N10462</th>\n      <th>N10463</th>\n      <th>N10464</th>\n      <th>N10465</th>\n      <th>N10466</th>\n      <th>N11525</th>\n    </tr>\n  </thead>\n  <tbody>\n    <tr>\n      <th>N17636</th>\n      <td>NaN</td>\n      <td>NaN</td>\n      <td>NaN</td>\n      <td>83.85</td>\n      <td>NaN</td>\n      <td>NaN</td>\n      <td>NaN</td>\n      <td>NaN</td>\n      <td>NaN</td>\n      <td>NaN</td>\n      <td>...</td>\n      <td>NaN</td>\n      <td>NaN</td>\n      <td>NaN</td>\n      <td>NaN</td>\n      <td>NaN</td>\n      <td>NaN</td>\n      <td>NaN</td>\n      <td>NaN</td>\n      <td>NaN</td>\n      <td>NaN</td>\n    </tr>\n    <tr>\n      <th>N17637</th>\n      <td>122.109</td>\n      <td>NaN</td>\n      <td>97.59</td>\n      <td>NaN</td>\n      <td>NaN</td>\n      <td>NaN</td>\n      <td>NaN</td>\n      <td>NaN</td>\n      <td>NaN</td>\n      <td>NaN</td>\n      <td>...</td>\n      <td>NaN</td>\n      <td>NaN</td>\n      <td>NaN</td>\n      <td>NaN</td>\n      <td>NaN</td>\n      <td>NaN</td>\n      <td>NaN</td>\n      <td>NaN</td>\n      <td>NaN</td>\n      <td>NaN</td>\n    </tr>\n    <tr>\n      <th>N17638</th>\n      <td>NaN</td>\n      <td>NaN</td>\n      <td>NaN</td>\n      <td>NaN</td>\n      <td>113.98</td>\n      <td>NaN</td>\n      <td>NaN</td>\n      <td>NaN</td>\n      <td>NaN</td>\n      <td>NaN</td>\n      <td>...</td>\n      <td>NaN</td>\n      <td>NaN</td>\n      <td>NaN</td>\n      <td>NaN</td>\n      <td>NaN</td>\n      <td>NaN</td>\n      <td>NaN</td>\n      <td>NaN</td>\n      <td>NaN</td>\n      <td>NaN</td>\n    </tr>\n    <tr>\n      <th>N02052</th>\n      <td>NaN</td>\n      <td>NaN</td>\n      <td>NaN</td>\n      <td>NaN</td>\n      <td>NaN</td>\n      <td>NaN</td>\n      <td>NaN</td>\n      <td>NaN</td>\n      <td>NaN</td>\n      <td>NaN</td>\n      <td>...</td>\n      <td>NaN</td>\n      <td>NaN</td>\n      <td>NaN</td>\n      <td>NaN</td>\n      <td>NaN</td>\n      <td>NaN</td>\n      <td>NaN</td>\n      <td>NaN</td>\n      <td>NaN</td>\n      <td>NaN</td>\n    </tr>\n    <tr>\n      <th>N20646</th>\n      <td>NaN</td>\n      <td>NaN</td>\n      <td>NaN</td>\n      <td>NaN</td>\n      <td>NaN</td>\n      <td>NaN</td>\n      <td>NaN</td>\n      <td>NaN</td>\n      <td>NaN</td>\n      <td>NaN</td>\n      <td>...</td>\n      <td>NaN</td>\n      <td>NaN</td>\n      <td>NaN</td>\n      <td>NaN</td>\n      <td>NaN</td>\n      <td>NaN</td>\n      <td>NaN</td>\n      <td>NaN</td>\n      <td>NaN</td>\n      <td>NaN</td>\n    </tr>\n    <tr>\n      <th>...</th>\n      <td>...</td>\n      <td>...</td>\n      <td>...</td>\n      <td>...</td>\n      <td>...</td>\n      <td>...</td>\n      <td>...</td>\n      <td>...</td>\n      <td>...</td>\n      <td>...</td>\n      <td>...</td>\n      <td>...</td>\n      <td>...</td>\n      <td>...</td>\n      <td>...</td>\n      <td>...</td>\n      <td>...</td>\n      <td>...</td>\n      <td>...</td>\n      <td>...</td>\n      <td>...</td>\n    </tr>\n    <tr>\n      <th>N10463</th>\n      <td>NaN</td>\n      <td>NaN</td>\n      <td>NaN</td>\n      <td>NaN</td>\n      <td>NaN</td>\n      <td>NaN</td>\n      <td>NaN</td>\n      <td>NaN</td>\n      <td>NaN</td>\n      <td>NaN</td>\n      <td>...</td>\n      <td>NaN</td>\n      <td>NaN</td>\n      <td>NaN</td>\n      <td>NaN</td>\n      <td>NaN</td>\n      <td>NaN</td>\n      <td>6.49</td>\n      <td>NaN</td>\n      <td>NaN</td>\n      <td>NaN</td>\n    </tr>\n    <tr>\n      <th>N10464</th>\n      <td>NaN</td>\n      <td>NaN</td>\n      <td>NaN</td>\n      <td>NaN</td>\n      <td>NaN</td>\n      <td>NaN</td>\n      <td>NaN</td>\n      <td>NaN</td>\n      <td>NaN</td>\n      <td>NaN</td>\n      <td>...</td>\n      <td>NaN</td>\n      <td>NaN</td>\n      <td>NaN</td>\n      <td>NaN</td>\n      <td>NaN</td>\n      <td>NaN</td>\n      <td>NaN</td>\n      <td>NaN</td>\n      <td>NaN</td>\n      <td>NaN</td>\n    </tr>\n    <tr>\n      <th>N10465</th>\n      <td>NaN</td>\n      <td>NaN</td>\n      <td>NaN</td>\n      <td>NaN</td>\n      <td>NaN</td>\n      <td>NaN</td>\n      <td>NaN</td>\n      <td>NaN</td>\n      <td>NaN</td>\n      <td>NaN</td>\n      <td>...</td>\n      <td>NaN</td>\n      <td>NaN</td>\n      <td>NaN</td>\n      <td>NaN</td>\n      <td>NaN</td>\n      <td>NaN</td>\n      <td>NaN</td>\n      <td>NaN</td>\n      <td>NaN</td>\n      <td>NaN</td>\n    </tr>\n    <tr>\n      <th>N10466</th>\n      <td>NaN</td>\n      <td>NaN</td>\n      <td>NaN</td>\n      <td>NaN</td>\n      <td>NaN</td>\n      <td>NaN</td>\n      <td>NaN</td>\n      <td>NaN</td>\n      <td>NaN</td>\n      <td>NaN</td>\n      <td>...</td>\n      <td>NaN</td>\n      <td>NaN</td>\n      <td>NaN</td>\n      <td>NaN</td>\n      <td>NaN</td>\n      <td>NaN</td>\n      <td>NaN</td>\n      <td>NaN</td>\n      <td>NaN</td>\n      <td>NaN</td>\n    </tr>\n    <tr>\n      <th>N11525</th>\n      <td>NaN</td>\n      <td>NaN</td>\n      <td>NaN</td>\n      <td>NaN</td>\n      <td>NaN</td>\n      <td>NaN</td>\n      <td>NaN</td>\n      <td>NaN</td>\n      <td>NaN</td>\n      <td>NaN</td>\n      <td>...</td>\n      <td>NaN</td>\n      <td>NaN</td>\n      <td>NaN</td>\n      <td>NaN</td>\n      <td>NaN</td>\n      <td>NaN</td>\n      <td>NaN</td>\n      <td>NaN</td>\n      <td>NaN</td>\n      <td>NaN</td>\n    </tr>\n  </tbody>\n</table>\n<p>673 rows × 673 columns</p>\n</div>"
     },
     "metadata": {},
     "output_type": "display_data"
    }
   ],
   "source": [
    "import pandas as pd\n",
    "\n",
    "data_df = pd.read_excel('Data.xlsx', sheet_name='nodes')\n",
    "Connect = pd.read_excel('Data.xlsx', sheet_name='edges')\n",
    "\n",
    "df = data_df.copy()\n",
    "listdf = df['№ узла'].tolist()\n",
    "\n",
    "Dir = pd.DataFrame(None, listdf, listdf)\n",
    "\n",
    "Dir2 = Dir.copy()\n",
    "connect_df = Connect.copy()\n",
    "\n",
    "for i in range(0,len(Dir)):\n",
    "    for b in range(0,len(connect_df)):\n",
    "        if(Dir.index[i] == connect_df.iloc[b,0]):\n",
    "            Dir2.loc[Dir2.index[i],connect_df.iloc[b,2]] = connect_df.iloc[b,4]\n",
    "display(Dir2)"
   ]
  },
  {
   "cell_type": "code",
   "execution_count": 39,
   "outputs": [],
   "source": [
    "for i in range(2):\n",
    "    for i in Dir2.keys():\n",
    "       if(Dir2[i].sum() == 0):\n",
    "           Dir2 = Dir2.drop(i,axis=1)\n",
    "    Dir2 = Dir2.T"
   ],
   "metadata": {
    "collapsed": false,
    "pycharm": {
     "name": "#%%\n"
    }
   }
  },
  {
   "cell_type": "code",
   "execution_count": 40,
   "outputs": [
    {
     "data": {
      "text/plain": "         N17636 N17638 N02052  N20646 N18639 N18640 N18641 N18642 N18643  \\\nN17636      NaN    NaN  83.85     NaN    NaN    NaN    NaN    NaN    NaN   \nN17637  122.109  97.59    NaN     NaN    NaN    NaN    NaN    NaN    NaN   \nN17638      NaN    NaN    NaN  113.98    NaN    NaN    NaN    NaN    NaN   \nN02052      NaN    NaN    NaN     NaN    NaN    NaN    NaN    NaN    NaN   \nN20646      NaN    NaN    NaN     NaN    NaN    NaN    NaN    NaN    NaN   \n...         ...    ...    ...     ...    ...    ...    ...    ...    ...   \nN10463      NaN    NaN    NaN     NaN    NaN    NaN    NaN    NaN    NaN   \nN10464      NaN    NaN    NaN     NaN    NaN    NaN    NaN    NaN    NaN   \nN10465      NaN    NaN    NaN     NaN    NaN    NaN    NaN    NaN    NaN   \nN10466      NaN    NaN    NaN     NaN    NaN    NaN    NaN    NaN    NaN   \nN11525      NaN    NaN    NaN     NaN    NaN    NaN    NaN    NaN    NaN   \n\n       N23663  ... N10458 N10459 N10460 N10461 N10462 N10463 N10464 N10465  \\\nN17636    NaN  ...    NaN    NaN    NaN    NaN    NaN    NaN    NaN    NaN   \nN17637    NaN  ...    NaN    NaN    NaN    NaN    NaN    NaN    NaN    NaN   \nN17638    NaN  ...    NaN    NaN    NaN    NaN    NaN    NaN    NaN    NaN   \nN02052    NaN  ...    NaN    NaN    NaN    NaN    NaN    NaN    NaN    NaN   \nN20646    NaN  ...    NaN    NaN    NaN    NaN    NaN    NaN    NaN    NaN   \n...       ...  ...    ...    ...    ...    ...    ...    ...    ...    ...   \nN10463    NaN  ...    NaN    NaN    NaN    NaN    NaN    NaN   6.49    NaN   \nN10464    NaN  ...    NaN    NaN    NaN    NaN    NaN    NaN    NaN    NaN   \nN10465    NaN  ...    NaN    NaN    NaN    NaN    NaN    NaN    NaN    NaN   \nN10466    NaN  ...    NaN    NaN    NaN    NaN    NaN    NaN    NaN    NaN   \nN11525    NaN  ...    NaN    NaN    NaN    NaN    NaN    NaN    NaN    NaN   \n\n       N10466 N11525  \nN17636    NaN    NaN  \nN17637    NaN    NaN  \nN17638    NaN    NaN  \nN02052    NaN    NaN  \nN20646    NaN    NaN  \n...       ...    ...  \nN10463    NaN    NaN  \nN10464    NaN    NaN  \nN10465    NaN    NaN  \nN10466    NaN    NaN  \nN11525    NaN    NaN  \n\n[590 rows x 605 columns]",
      "text/html": "<div>\n<style scoped>\n    .dataframe tbody tr th:only-of-type {\n        vertical-align: middle;\n    }\n\n    .dataframe tbody tr th {\n        vertical-align: top;\n    }\n\n    .dataframe thead th {\n        text-align: right;\n    }\n</style>\n<table border=\"1\" class=\"dataframe\">\n  <thead>\n    <tr style=\"text-align: right;\">\n      <th></th>\n      <th>N17636</th>\n      <th>N17638</th>\n      <th>N02052</th>\n      <th>N20646</th>\n      <th>N18639</th>\n      <th>N18640</th>\n      <th>N18641</th>\n      <th>N18642</th>\n      <th>N18643</th>\n      <th>N23663</th>\n      <th>...</th>\n      <th>N10458</th>\n      <th>N10459</th>\n      <th>N10460</th>\n      <th>N10461</th>\n      <th>N10462</th>\n      <th>N10463</th>\n      <th>N10464</th>\n      <th>N10465</th>\n      <th>N10466</th>\n      <th>N11525</th>\n    </tr>\n  </thead>\n  <tbody>\n    <tr>\n      <th>N17636</th>\n      <td>NaN</td>\n      <td>NaN</td>\n      <td>83.85</td>\n      <td>NaN</td>\n      <td>NaN</td>\n      <td>NaN</td>\n      <td>NaN</td>\n      <td>NaN</td>\n      <td>NaN</td>\n      <td>NaN</td>\n      <td>...</td>\n      <td>NaN</td>\n      <td>NaN</td>\n      <td>NaN</td>\n      <td>NaN</td>\n      <td>NaN</td>\n      <td>NaN</td>\n      <td>NaN</td>\n      <td>NaN</td>\n      <td>NaN</td>\n      <td>NaN</td>\n    </tr>\n    <tr>\n      <th>N17637</th>\n      <td>122.109</td>\n      <td>97.59</td>\n      <td>NaN</td>\n      <td>NaN</td>\n      <td>NaN</td>\n      <td>NaN</td>\n      <td>NaN</td>\n      <td>NaN</td>\n      <td>NaN</td>\n      <td>NaN</td>\n      <td>...</td>\n      <td>NaN</td>\n      <td>NaN</td>\n      <td>NaN</td>\n      <td>NaN</td>\n      <td>NaN</td>\n      <td>NaN</td>\n      <td>NaN</td>\n      <td>NaN</td>\n      <td>NaN</td>\n      <td>NaN</td>\n    </tr>\n    <tr>\n      <th>N17638</th>\n      <td>NaN</td>\n      <td>NaN</td>\n      <td>NaN</td>\n      <td>113.98</td>\n      <td>NaN</td>\n      <td>NaN</td>\n      <td>NaN</td>\n      <td>NaN</td>\n      <td>NaN</td>\n      <td>NaN</td>\n      <td>...</td>\n      <td>NaN</td>\n      <td>NaN</td>\n      <td>NaN</td>\n      <td>NaN</td>\n      <td>NaN</td>\n      <td>NaN</td>\n      <td>NaN</td>\n      <td>NaN</td>\n      <td>NaN</td>\n      <td>NaN</td>\n    </tr>\n    <tr>\n      <th>N02052</th>\n      <td>NaN</td>\n      <td>NaN</td>\n      <td>NaN</td>\n      <td>NaN</td>\n      <td>NaN</td>\n      <td>NaN</td>\n      <td>NaN</td>\n      <td>NaN</td>\n      <td>NaN</td>\n      <td>NaN</td>\n      <td>...</td>\n      <td>NaN</td>\n      <td>NaN</td>\n      <td>NaN</td>\n      <td>NaN</td>\n      <td>NaN</td>\n      <td>NaN</td>\n      <td>NaN</td>\n      <td>NaN</td>\n      <td>NaN</td>\n      <td>NaN</td>\n    </tr>\n    <tr>\n      <th>N20646</th>\n      <td>NaN</td>\n      <td>NaN</td>\n      <td>NaN</td>\n      <td>NaN</td>\n      <td>NaN</td>\n      <td>NaN</td>\n      <td>NaN</td>\n      <td>NaN</td>\n      <td>NaN</td>\n      <td>NaN</td>\n      <td>...</td>\n      <td>NaN</td>\n      <td>NaN</td>\n      <td>NaN</td>\n      <td>NaN</td>\n      <td>NaN</td>\n      <td>NaN</td>\n      <td>NaN</td>\n      <td>NaN</td>\n      <td>NaN</td>\n      <td>NaN</td>\n    </tr>\n    <tr>\n      <th>...</th>\n      <td>...</td>\n      <td>...</td>\n      <td>...</td>\n      <td>...</td>\n      <td>...</td>\n      <td>...</td>\n      <td>...</td>\n      <td>...</td>\n      <td>...</td>\n      <td>...</td>\n      <td>...</td>\n      <td>...</td>\n      <td>...</td>\n      <td>...</td>\n      <td>...</td>\n      <td>...</td>\n      <td>...</td>\n      <td>...</td>\n      <td>...</td>\n      <td>...</td>\n      <td>...</td>\n    </tr>\n    <tr>\n      <th>N10463</th>\n      <td>NaN</td>\n      <td>NaN</td>\n      <td>NaN</td>\n      <td>NaN</td>\n      <td>NaN</td>\n      <td>NaN</td>\n      <td>NaN</td>\n      <td>NaN</td>\n      <td>NaN</td>\n      <td>NaN</td>\n      <td>...</td>\n      <td>NaN</td>\n      <td>NaN</td>\n      <td>NaN</td>\n      <td>NaN</td>\n      <td>NaN</td>\n      <td>NaN</td>\n      <td>6.49</td>\n      <td>NaN</td>\n      <td>NaN</td>\n      <td>NaN</td>\n    </tr>\n    <tr>\n      <th>N10464</th>\n      <td>NaN</td>\n      <td>NaN</td>\n      <td>NaN</td>\n      <td>NaN</td>\n      <td>NaN</td>\n      <td>NaN</td>\n      <td>NaN</td>\n      <td>NaN</td>\n      <td>NaN</td>\n      <td>NaN</td>\n      <td>...</td>\n      <td>NaN</td>\n      <td>NaN</td>\n      <td>NaN</td>\n      <td>NaN</td>\n      <td>NaN</td>\n      <td>NaN</td>\n      <td>NaN</td>\n      <td>NaN</td>\n      <td>NaN</td>\n      <td>NaN</td>\n    </tr>\n    <tr>\n      <th>N10465</th>\n      <td>NaN</td>\n      <td>NaN</td>\n      <td>NaN</td>\n      <td>NaN</td>\n      <td>NaN</td>\n      <td>NaN</td>\n      <td>NaN</td>\n      <td>NaN</td>\n      <td>NaN</td>\n      <td>NaN</td>\n      <td>...</td>\n      <td>NaN</td>\n      <td>NaN</td>\n      <td>NaN</td>\n      <td>NaN</td>\n      <td>NaN</td>\n      <td>NaN</td>\n      <td>NaN</td>\n      <td>NaN</td>\n      <td>NaN</td>\n      <td>NaN</td>\n    </tr>\n    <tr>\n      <th>N10466</th>\n      <td>NaN</td>\n      <td>NaN</td>\n      <td>NaN</td>\n      <td>NaN</td>\n      <td>NaN</td>\n      <td>NaN</td>\n      <td>NaN</td>\n      <td>NaN</td>\n      <td>NaN</td>\n      <td>NaN</td>\n      <td>...</td>\n      <td>NaN</td>\n      <td>NaN</td>\n      <td>NaN</td>\n      <td>NaN</td>\n      <td>NaN</td>\n      <td>NaN</td>\n      <td>NaN</td>\n      <td>NaN</td>\n      <td>NaN</td>\n      <td>NaN</td>\n    </tr>\n    <tr>\n      <th>N11525</th>\n      <td>NaN</td>\n      <td>NaN</td>\n      <td>NaN</td>\n      <td>NaN</td>\n      <td>NaN</td>\n      <td>NaN</td>\n      <td>NaN</td>\n      <td>NaN</td>\n      <td>NaN</td>\n      <td>NaN</td>\n      <td>...</td>\n      <td>NaN</td>\n      <td>NaN</td>\n      <td>NaN</td>\n      <td>NaN</td>\n      <td>NaN</td>\n      <td>NaN</td>\n      <td>NaN</td>\n      <td>NaN</td>\n      <td>NaN</td>\n      <td>NaN</td>\n    </tr>\n  </tbody>\n</table>\n<p>590 rows × 605 columns</p>\n</div>"
     },
     "metadata": {},
     "output_type": "display_data"
    }
   ],
   "source": [
    "display(Dir2)"
   ],
   "metadata": {
    "collapsed": false,
    "pycharm": {
     "name": "#%%\n"
    }
   }
  },
  {
   "cell_type": "code",
   "execution_count": 50,
   "outputs": [
    {
     "name": "stdout",
     "output_type": "stream",
     "text": [
      "Регион 17\n",
      "{'N17636': {}, 'N17637': {}, 'N17638': {}, 'N02052': {}, 'N20646': {}, 'N02053': {}, 'N18639': {}, 'N18640': {}, 'N18641': {}, 'N18642': {}, 'N18643': {}, 'N23663': {}, 'N19644': {}, 'N01002': {}, 'N01003': {}, 'N01004': {}, 'N01005': {}, 'N01006': {}, 'N01007': {}, 'N01008': {}, 'N01009': {}, 'N01010': {}, 'N01011': {}, 'N01012': {}, 'N01013': {}, 'N01014': {}, 'N01015': {}, 'N01016': {}, 'N01001': {}, 'N01017': {}, 'N01018': {}, 'N01019': {}, 'N01020': {}, 'N01021': {}, 'N01022': {}, 'N01023': {}, 'N01024': {}, 'N01025': {}, 'N01026': {}, 'N01027': {}, 'N01028': {}, 'N01029': {}, 'N01030': {}, 'N01031': {}, 'N01032': {}, 'N01033': {}, 'N01034': {}, 'N01035': {}, 'N01036': {}, 'N01037': {}, 'N01038': {}, 'N01039': {}, 'N01040': {}, 'N01041': {}, 'N01042': {}, 'N01043': {}, 'N01044': {}, 'N01045': {}, 'N01046': {}, 'N01047': {}, 'N01048': {}, 'N12527': {}, 'N06286': {}, 'N01049': {}, 'N07308': {}, 'N07307': {}, 'N07309': {}, 'N07310': {}, 'N07311': {}, 'N07312': {}, 'N07313': {}, 'N07314': {}, 'N07315': {}, 'N07316': {}, 'N07317': {}, 'N07318': {}, 'N07319': {}, 'N07320': {}, 'N07321': {}, 'N07322': {}, 'N07323': {}, 'N07324': {}, 'N07325': {}, 'N07326': {}, 'N07327': {}, 'N07328': {}, 'N07329': {}, 'N07330': {}, 'N04151': {}, 'N04152': {}, 'N13553': {}, 'N02054': {}, 'N02055': {}, 'N14583': {}, 'N02056': {}, 'N02057': {}, 'N02058': {}, 'N02059': {}, 'N02060': {}, 'N02061': {}, 'N02062': {}, 'N02063': {}, 'N02051': {}, 'N02064': {}, 'N02065': {}, 'N02066': {}, 'N02067': {}, 'N02068': {}, 'N02069': {}, 'N02070': {}, 'N02071': {}, 'N02072': {}, 'N02073': {}, 'N02074': {}, 'N02075': {}, 'N02076': {}, 'N02077': {}, 'N02078': {}, 'N02079': {}, 'N02080': {}, 'N02081': {}, 'N02082': {}, 'N02083': {}, 'N02084': {}, 'N02085': {}, 'N02086': {}, 'N02087': {}, 'N02088': {}, 'N02089': {}, 'N02090': {}, 'N02091': {}, 'N02092': {}, 'N02093': {}, 'N02094': {}, 'N02095': {}, 'N14584': {}, 'N04153': {}, 'N04154': {}, 'N04155': {}, 'N04156': {}, 'N04157': {}, 'N04158': {}, 'N04159': {}, 'N04160': {}, 'N04161': {}, 'N04162': {}, 'N04163': {}, 'N04150': {}, 'N04164': {}, 'N04165': {}, 'N04166': {}, 'N04167': {}, 'N04168': {}, 'N04169': {}, 'N04170': {}, 'N04171': {}, 'N04172': {}, 'N04173': {}, 'N04174': {}, 'N04175': {}, 'N04176': {}, 'N04177': {}, 'N04178': {}, 'N04179': {}, 'N04180': {}, 'N04181': {}, 'N04182': {}, 'N04183': {}, 'N04184': {}, 'N20647': {}, 'N09374': {}, 'N13554': {}, 'N04185': {}, 'N19645': {}, 'N21655': {}, 'N06287': {}, 'N06288': {}, 'N06289': {}, 'N06290': {}, 'N06291': {}, 'N06292': {}, 'N06285': {}, 'N06293': {}, 'N06294': {}, 'N06295': {}, 'N06296': {}, 'N06297': {}, 'N06298': {}, 'N06299': {}, 'N06300': {}, 'N06301': {}, 'N06302': {}, 'N06303': {}, 'N14585': {}, 'N14586': {}, 'N10420': {}, 'N06304': {}, 'N06305': {}, 'N06306': {}, 'N10421': {}, 'N03097': {}, 'N03098': {}, 'N03099': {}, 'N03100': {}, 'N03101': {}, 'N03102': {}, 'N03103': {}, 'N03104': {}, 'N03105': {}, 'N03106': {}, 'N03107': {}, 'N03108': {}, 'N03109': {}, 'N03110': {}, 'N03111': {}, 'N03112': {}, 'N03096': {}, 'N03113': {}, 'N03114': {}, 'N03115': {}, 'N03116': {}, 'N03117': {}, 'N03118': {}, 'N03119': {}, 'N03120': {}, 'N03121': {}, 'N03122': {}, 'N03123': {}, 'N03124': {}, 'N03125': {}, 'N03126': {}, 'N03127': {}, 'N03128': {}, 'N03129': {}, 'N03130': {}, 'N03131': {}, 'N03132': {}, 'N03133': {}, 'N03134': {}, 'N03135': {}, 'N03136': {}, 'N03137': {}, 'N03138': {}, 'N03139': {}, 'N03140': {}, 'N03141': {}, 'N03142': {}, 'N03143': {}, 'N03144': {}, 'N03145': {}, 'N03146': {}, 'N03147': {}, 'N03148': {}, 'N03149': {}, 'N08332': {}, 'N08333': {}, 'N08334': {}, 'N21656': {}, 'N20648': {}, 'N14587': {}, 'N14582': {}, 'N14588': {}, 'N14589': {}, 'N14590': {}, 'N14591': {}, 'N14592': {}, 'N14593': {}, 'N14594': {}, 'N14595': {}, 'N14596': {}, 'N14597': {}, 'N14598': {}, 'N14599': {}, 'N14600': {}, 'N14601': {}, 'N14602': {}, 'N14603': {}, 'N14604': {}, 'N10422': {}, 'N15605': {}, 'N15606': {}, 'N15607': {}, 'N15608': {}, 'N15609': {}, 'N15610': {}, 'N15611': {}, 'N15612': {}, 'N15613': {}, 'N15614': {}, 'N15615': {}, 'N15616': {}, 'N05187': {}, 'N05188': {}, 'N16617': {}, 'N12528': {}, 'N12529': {}, 'N12530': {}, 'N12531': {}, 'N12532': {}, 'N12533': {}, 'N12534': {}, 'N12535': {}, 'N12536': {}, 'N12537': {}, 'N12538': {}, 'N12539': {}, 'N12540': {}, 'N12541': {}, 'N12542': {}, 'N12543': {}, 'N12544': {}, 'N12545': {}, 'N12546': {}, 'N12547': {}, 'N12548': {}, 'N12549': {}, 'N12550': {}, 'N12551': {}, 'N05189': {}, 'N10423': {}, 'N12526': {}, 'N11468': {}, 'N11469': {}, 'N11470': {}, 'N11471': {}, 'N11472': {}, 'N11473': {}, 'N11474': {}, 'N11475': {}, 'N11476': {}, 'N11477': {}, 'N11478': {}, 'N11479': {}, 'N11480': {}, 'N11481': {}, 'N11482': {}, 'N11483': {}, 'N11484': {}, 'N11485': {}, 'N11486': {}, 'N11487': {}, 'N11488': {}, 'N11489': {}, 'N11490': {}, 'N11491': {}, 'N11492': {}, 'N11493': {}, 'N11494': {}, 'N11495': {}, 'N11496': {}, 'N11497': {}, 'N11498': {}, 'N11499': {}, 'N11500': {}, 'N11501': {}, 'N11502': {}, 'N11503': {}, 'N11504': {}, 'N11505': {}, 'N11506': {}, 'N11507': {}, 'N11508': {}, 'N11509': {}, 'N11510': {}, 'N11511': {}, 'N11512': {}, 'N11513': {}, 'N11514': {}, 'N11515': {}, 'N11516': {}, 'N11517': {}, 'N11518': {}, 'N11519': {}, 'N11520': {}, 'N11521': {}, 'N11522': {}, 'N11523': {}, 'N11524': {}, 'N16618': {}, 'N11467': {}, 'N08335': {}, 'N08336': {}, 'N08337': {}, 'N08338': {}, 'N08339': {}, 'N08340': {}, 'N08341': {}, 'N08342': {}, 'N08343': {}, 'N08344': {}, 'N08345': {}, 'N08346': {}, 'N08347': {}, 'N08348': {}, 'N08349': {}, 'N08350': {}, 'N08351': {}, 'N08352': {}, 'N08353': {}, 'N08354': {}, 'N08355': {}, 'N08356': {}, 'N08357': {}, 'N08358': {}, 'N08359': {}, 'N08360': {}, 'N08361': {}, 'N08362': {}, 'N08363': {}, 'N08364': {}, 'N08365': {}, 'N08366': {}, 'N08367': {}, 'N08368': {}, 'N08369': {}, 'N08370': {}, 'N08371': {}, 'N09375': {}, 'N09376': {}, 'N13555': {}, 'N13556': {}, 'N08331': {}, 'N08372': {}, 'N13557': {}, 'N13558': {}, 'N13559': {}, 'N13560': {}, 'N13561': {}, 'N13562': {}, 'N13563': {}, 'N13564': {}, 'N13565': {}, 'N13566': {}, 'N13567': {}, 'N13568': {}, 'N13569': {}, 'N13570': {}, 'N13571': {}, 'N13572': {}, 'N13573': {}, 'N13574': {}, 'N13575': {}, 'N13576': {}, 'N13577': {}, 'N13578': {}, 'N13579': {}, 'N13580': {}, 'N13581': {}, 'N13552': {}, 'N09377': {}, 'N09378': {}, 'N09379': {}, 'N09380': {}, 'N09381': {}, 'N09382': {}, 'N09373': {}, 'N09383': {}, 'N09384': {}, 'N09385': {}, 'N09386': {}, 'N09387': {}, 'N09388': {}, 'N09389': {}, 'N09390': {}, 'N09391': {}, 'N09392': {}, 'N09393': {}, 'N09394': {}, 'N09395': {}, 'N09396': {}, 'N09397': {}, 'N09398': {}, 'N09399': {}, 'N09400': {}, 'N09401': {}, 'N09402': {}, 'N09403': {}, 'N09404': {}, 'N09405': {}, 'N09406': {}, 'N09407': {}, 'N09408': {}, 'N09409': {}, 'N09410': {}, 'N09411': {}, 'N09412': {}, 'N09413': {}, 'N09414': {}, 'N09415': {}, 'N09416': {}, 'N22657': {}, 'N09417': {}, 'N09418': {}, 'N22658': {}, 'N22659': {}, 'N22660': {}, 'N22661': {}, 'N22662': {}, 'N23664': {}, 'N23665': {}, 'N23666': {}, 'N23667': {}, 'N23668': {}, 'N23669': {}, 'N23670': {}, 'N23671': {}, 'N23672': {}, 'N23673': {}, 'N16619': {}, 'N16620': {}, 'N16621': {}, 'N16622': {}, 'N16623': {}, 'N16624': {}, 'N16625': {}, 'N16626': {}, 'N16627': {}, 'N16628': {}, 'N16629': {}, 'N16630': {}, 'N16631': {}, 'N16632': {}, 'N16633': {}, 'N16634': {}, 'N16635': {}, 'N20649': {}, 'N20650': {}, 'N20651': {}, 'N20652': {}, 'N20653': {}, 'N20654': {}, 'N05190': {}, 'N05191': {}, 'N05192': {}, 'N05193': {}, 'N05194': {}, 'N05195': {}, 'N05196': {}, 'N05197': {}, 'N05198': {}, 'N05199': {}, 'N05200': {}, 'N05201': {}, 'N05202': {}, 'N05203': {}, 'N05204': {}, 'N05205': {}, 'N05206': {}, 'N05207': {}, 'N05208': {}, 'N05209': {}, 'N05210': {}, 'N05211': {}, 'N05212': {}, 'N05213': {}, 'N05214': {}, 'N05215': {}, 'N05216': {}, 'N05217': {}, 'N05218': {}, 'N05219': {}, 'N05220': {}, 'N05221': {}, 'N05222': {}, 'N05223': {}, 'N05224': {}, 'N05225': {}, 'N05226': {}, 'N05227': {}, 'N05228': {}, 'N05229': {}, 'N05230': {}, 'N05231': {}, 'N05232': {}, 'N05233': {}, 'N05234': {}, 'N05186': {}, 'N05235': {}, 'N05236': {}, 'N05237': {}, 'N05238': {}, 'N05239': {}, 'N05240': {}, 'N05241': {}, 'N05242': {}, 'N05243': {}, 'N05244': {}, 'N05245': {}, 'N05246': {}, 'N05247': {}, 'N05248': {}, 'N05249': {}, 'N05250': {}, 'N05251': {}, 'N05252': {}, 'N05253': {}, 'N05254': {}, 'N05255': {}, 'N05256': {}, 'N05257': {}, 'N05258': {}, 'N05259': {}, 'N05260': {}, 'N05261': {}, 'N05262': {}, 'N05263': {}, 'N05264': {}, 'N05265': {}, 'N05266': {}, 'N05267': {}, 'N05268': {}, 'N05269': {}, 'N05270': {}, 'N05271': {}, 'N05272': {}, 'N05273': {}, 'N05274': {}, 'N05275': {}, 'N05276': {}, 'N05277': {}, 'N05278': {}, 'N05279': {}, 'N05280': {}, 'N05281': {}, 'N05282': {}, 'N05283': {}, 'N05284': {}, 'N10419': {}, 'N10424': {}, 'N10425': {}, 'N10426': {}, 'N10427': {}, 'N10428': {}, 'N10429': {}, 'N10430': {}, 'N01050': {}, 'N10431': {}, 'N10432': {}, 'N10433': {}, 'N10434': {}, 'N10435': {}, 'N10436': {}, 'N10437': {}, 'N10438': {}, 'N10439': {}, 'N10440': {}, 'N10441': {}, 'N10442': {}, 'N10443': {}, 'N10444': {}, 'N10445': {}, 'N10446': {}, 'N10447': {}, 'N10448': {}, 'N10449': {}, 'N10450': {}, 'N10451': {}, 'N10452': {}, 'N10453': {}, 'N10454': {}, 'N10455': {}, 'N10456': {}, 'N10457': {}, 'N10458': {}, 'N10459': {}, 'N10460': {}, 'N10461': {}, 'N10462': {}, 'N10463': {}, 'N10464': {}, 'N10465': {}, 'N10466': {}, 'N11525': {}}\n"
     ]
    }
   ],
   "source": [
    "import pandas as pd\n",
    "Connect = pd.read_excel('Data.xlsx', sheet_name='edges')\n",
    "data_df = pd.read_excel('Data.xlsx', sheet_name='nodes')\n",
    "df = data_df.copy()\n",
    "listdf = df['№ узла'].tolist()\n",
    "\n",
    "allNudes = dict(zip(listdf,[dict() for i in range(len(listdf))]))\n",
    "\n",
    "df2 = Connect.copy()\n",
    "\n",
    "df2 = df2[[\"№ т.А\", \"Регион т.А\",\"№ т.Б\",\"Регион т.Б\",\"Длина, км\"]]\n",
    "print(df2.iloc[1,1])\n",
    "print(allNudes)"
   ],
   "metadata": {
    "collapsed": false,
    "pycharm": {
     "name": "#%%\n"
    }
   }
  },
  {
   "cell_type": "code",
   "execution_count": 93,
   "outputs": [
    {
     "name": "stdout",
     "output_type": "stream",
     "text": [
      "580\n",
      "      № т.А Регион т.А   № т.Б Регион т.Б  Длина, км\n",
      "8    N09379   Регион 9  N22657  Регион 22    131.980\n",
      "226  N09374   Регион 9  N04181   Регион 4     49.250\n",
      "574  N09377   Регион 9  N09379   Регион 9     96.410\n",
      "575  N09378   Регион 9  N09377   Регион 9    103.400\n",
      "576  N09380   Регион 9  N09373   Регион 9      2.220\n",
      "577  N09377   Регион 9  N09380   Регион 9     38.170\n",
      "578  N09381   Регион 9  N09387   Регион 9     58.440\n",
      "579  N09382   Регион 9  N09374   Регион 9     56.980\n",
      "580  N09373   Регион 9  N09387   Регион 9     39.560\n",
      "581  N09381   Регион 9  N09382   Регион 9     57.970\n",
      "582  N09383   Регион 9  N09384   Регион 9     62.430\n",
      "583  N09386   Регион 9  N09376   Регион 9     41.670\n",
      "584  N09387   Регион 9  N09377   Регион 9     24.400\n",
      "585  N09388   Регион 9  N09373   Регион 9     98.230\n",
      "586  N09389   Регион 9  N09388   Регион 9     27.660\n",
      "587  N09390   Регион 9  N09411   Регион 9     62.750\n",
      "588  N09392   Регион 9  N09412   Регион 9     66.140\n",
      "589  N09386   Регион 9  N09416   Регион 9     82.580\n",
      "590  N09381   Регион 9  N09392   Регион 9     75.890\n",
      "591  N09393   Регион 9  N09402   Регион 9     37.460\n",
      "592  N09395   Регион 9  N09417   Регион 9     16.140\n",
      "593  N09396   Регион 9  N09406   Регион 9      1.280\n",
      "594  N09397   Регион 9  N09399   Регион 9     76.860\n",
      "595  N09398   Регион 9  N09376   Регион 9    100.570\n",
      "596  N09384   Регион 9  N09397   Регион 9     43.530\n",
      "597  N09399   Регион 9  N09398   Регион 9    103.370\n",
      "598  N09401   Регион 9  N09400   Регион 9     67.340\n",
      "599  N09402   Регион 9  N09401   Регион 9     51.700\n",
      "600  N09375   Регион 9  N09403   Регион 9     19.650\n",
      "601  N09403   Регион 9  N09406   Регион 9     67.080\n",
      "602  N09406   Регион 9  N09378   Регион 9     60.520\n",
      "603  N09407   Регион 9  N09408   Регион 9     10.800\n",
      "604  N09408   Регион 9  N09393   Регион 9     15.920\n",
      "605  N09393   Регион 9  N09383   Регион 9     33.900\n",
      "606  N09404   Регион 9  N09409   Регион 9      4.080\n",
      "607  N09409   Регион 9  N09385   Регион 9      3.130\n",
      "608  N09385   Регион 9  N09373   Регион 9      4.710\n",
      "609  N09404   Регион 9  N09394   Регион 9     67.880\n",
      "610  N09394   Регион 9  N09395   Регион 9      7.980\n",
      "611  N09395   Регион 9  N09407   Регион 9      5.910\n",
      "612  N09374   Регион 9  N09410   Регион 9     44.590\n",
      "613  N09410   Регион 9  N09390   Регион 9      8.500\n",
      "614  N09411   Регион 9  N09391   Регион 9     64.470\n",
      "615  N09391   Регион 9  N09389   Регион 9     38.050\n",
      "616  N09412   Регион 9  N09413   Регион 9     42.154\n",
      "617  N09413   Регион 9  N09414   Регион 9      6.350\n",
      "618  N09414   Регион 9  N09415   Регион 9     14.750\n",
      "619  N09415   Регион 9  N09418   Регион 9     71.030\n",
      "620  N09416   Регион 9  N09405   Регион 9     13.940\n",
      "621  N09405   Регион 9  N09396   Регион 9      2.800\n",
      "622  N09396   Регион 9  N09418   Регион 9     32.180\n",
      "      № т.А Регион т.А   № т.Б Регион т.Б  Длина, км\n",
      "574  N09377   Регион 9  N09379   Регион 9     96.410\n",
      "575  N09378   Регион 9  N09377   Регион 9    103.400\n",
      "576  N09380   Регион 9  N09373   Регион 9      2.220\n",
      "577  N09377   Регион 9  N09380   Регион 9     38.170\n",
      "578  N09381   Регион 9  N09387   Регион 9     58.440\n",
      "579  N09382   Регион 9  N09374   Регион 9     56.980\n",
      "580  N09373   Регион 9  N09387   Регион 9     39.560\n",
      "581  N09381   Регион 9  N09382   Регион 9     57.970\n",
      "582  N09383   Регион 9  N09384   Регион 9     62.430\n",
      "583  N09386   Регион 9  N09376   Регион 9     41.670\n",
      "584  N09387   Регион 9  N09377   Регион 9     24.400\n",
      "585  N09388   Регион 9  N09373   Регион 9     98.230\n",
      "586  N09389   Регион 9  N09388   Регион 9     27.660\n",
      "587  N09390   Регион 9  N09411   Регион 9     62.750\n",
      "588  N09392   Регион 9  N09412   Регион 9     66.140\n",
      "589  N09386   Регион 9  N09416   Регион 9     82.580\n",
      "590  N09381   Регион 9  N09392   Регион 9     75.890\n",
      "591  N09393   Регион 9  N09402   Регион 9     37.460\n",
      "592  N09395   Регион 9  N09417   Регион 9     16.140\n",
      "593  N09396   Регион 9  N09406   Регион 9      1.280\n",
      "594  N09397   Регион 9  N09399   Регион 9     76.860\n",
      "595  N09398   Регион 9  N09376   Регион 9    100.570\n",
      "596  N09384   Регион 9  N09397   Регион 9     43.530\n",
      "597  N09399   Регион 9  N09398   Регион 9    103.370\n",
      "598  N09401   Регион 9  N09400   Регион 9     67.340\n",
      "599  N09402   Регион 9  N09401   Регион 9     51.700\n",
      "600  N09375   Регион 9  N09403   Регион 9     19.650\n",
      "601  N09403   Регион 9  N09406   Регион 9     67.080\n",
      "602  N09406   Регион 9  N09378   Регион 9     60.520\n",
      "603  N09407   Регион 9  N09408   Регион 9     10.800\n",
      "604  N09408   Регион 9  N09393   Регион 9     15.920\n",
      "605  N09393   Регион 9  N09383   Регион 9     33.900\n",
      "606  N09404   Регион 9  N09409   Регион 9      4.080\n",
      "607  N09409   Регион 9  N09385   Регион 9      3.130\n",
      "608  N09385   Регион 9  N09373   Регион 9      4.710\n",
      "609  N09404   Регион 9  N09394   Регион 9     67.880\n",
      "610  N09394   Регион 9  N09395   Регион 9      7.980\n",
      "611  N09395   Регион 9  N09407   Регион 9      5.910\n",
      "612  N09374   Регион 9  N09410   Регион 9     44.590\n",
      "613  N09410   Регион 9  N09390   Регион 9      8.500\n",
      "614  N09411   Регион 9  N09391   Регион 9     64.470\n",
      "615  N09391   Регион 9  N09389   Регион 9     38.050\n",
      "616  N09412   Регион 9  N09413   Регион 9     42.154\n",
      "617  N09413   Регион 9  N09414   Регион 9      6.350\n",
      "618  N09414   Регион 9  N09415   Регион 9     14.750\n",
      "619  N09415   Регион 9  N09418   Регион 9     71.030\n",
      "620  N09416   Регион 9  N09405   Регион 9     13.940\n",
      "621  N09405   Регион 9  N09396   Регион 9      2.800\n",
      "622  N09396   Регион 9  N09418   Регион 9     32.180\n",
      "{'N09379': {}, 'N09412': {}, 'N09388': {}, 'N09404': {}, 'N09417': {}, 'N09378': {}, 'N09398': {}, 'N09406': {}, 'N09380': {}, 'N09395': {}, 'N09402': {}, 'N09407': {}, 'N09385': {}, 'N09418': {}, 'N09415': {}, 'N09374': {}, 'N09414': {}, 'N09390': {}, 'N09376': {}, 'N09393': {}, 'N09416': {}, 'N09400': {}, 'N09386': {}, 'N09375': {}, 'N09396': {}, 'N09401': {}, 'N09405': {}, 'N09373': {}, 'N09377': {}, 'N09382': {}, 'N09384': {}, 'N09391': {}, 'N09399': {}, 'N09409': {}, 'N09397': {}, 'N09381': {}, 'N09413': {}, 'N09387': {}, 'N09411': {}, 'N09394': {}, 'N09410': {}, 'N09403': {}, 'N09383': {}, 'N09408': {}, 'N09392': {}, 'N09389': {}}\n"
     ]
    },
    {
     "name": "stderr",
     "output_type": "stream",
     "text": [
      "C:\\Users\\vczyp\\AppData\\Local\\Temp\\ipykernel_15796\\1971018069.py:10: UserWarning: Boolean Series key will be reindexed to match DataFrame index.\n",
      "  areaNudes = areaNudes[df_filter]\n"
     ]
    }
   ],
   "source": [
    "for i in range(df2.shape[0]):\n",
    "    if(df2.iloc[i,0] == \"N09373\"):\n",
    "        a =df2.iloc[i,1]\n",
    "        print(i)\n",
    "df_filter = df2[\"Регион т.А\"].isin([a])\n",
    "areaNudes = df2[df_filter]\n",
    "list2 = areaNudes['№ т.А'].tolist()\n",
    "df_filter = df2[\"Регион т.Б\"].isin([a])\n",
    "areaNudes = areaNudes[df_filter]\n",
    "list2 += areaNudes['№ т.Б'].tolist()\n",
    "\n",
    "list2 = set(list2)\n",
    "\n",
    "allNudez = dict(zip(list2,[dict() for i in range(len(list2))]))\n",
    "areaNudes.reset_index(drop=True, inplace=True)\n",
    "\n",
    "print(allNudez)"
   ],
   "metadata": {
    "collapsed": false,
    "pycharm": {
     "name": "#%%\n"
    }
   }
  },
  {
   "cell_type": "code",
   "execution_count": 86,
   "outputs": [
    {
     "name": "stdout",
     "output_type": "stream",
     "text": [
      "{'N09379': {'N09377': 96.41}, 'N09412': {'N09413': 42.154, 'N09392': 66.14}, 'N09388': {'N09373': 98.23, 'N09389': 27.66}, 'N09404': {'N09409': 4.08, 'N09394': 67.88}, 'N09417': {'N09395': 16.14}, 'N09378': {'N09377': 103.4, 'N09406': 60.52}, 'N09398': {'N09376': 100.57, 'N09399': 103.37}, 'N09406': {'N09378': 60.52, 'N09396': 1.28, 'N09403': 67.08}, 'N09380': {'N09373': 2.22, 'N09377': 38.17}, 'N09395': {'N09417': 16.14, 'N09407': 5.91, 'N09394': 7.98}, 'N09402': {'N09401': 51.7, 'N09393': 37.46}, 'N09407': {'N09408': 10.8, 'N09395': 5.91}, 'N09385': {'N09373': 4.71, 'N09409': 3.13}, 'N09418': {'N09415': 71.03, 'N09396': 32.18}, 'N09415': {'N09418': 71.03, 'N09414': 14.75}, 'N09374': {'N09410': 44.59, 'N09382': 56.98}, 'N09414': {'N09415': 14.75, 'N09413': 6.35}, 'N09390': {'N09411': 62.75, 'N09410': 8.5}, 'N09376': {'N09386': 41.67, 'N09398': 100.57}, 'N09393': {'N09402': 37.46, 'N09383': 33.9, 'N09408': 15.92}, 'N09416': {'N09405': 13.94, 'N09386': 82.58}, 'N09400': {'N09401': 67.34}, 'N09386': {'N09376': 41.67, 'N09416': 82.58}, 'N09375': {'N09403': 19.65}, 'N09396': {'N09406': 1.28, 'N09418': 32.18, 'N09405': 2.8}, 'N09401': {'N09400': 67.34, 'N09402': 51.7}, 'N09405': {'N09396': 2.8, 'N09416': 13.94}, 'N09373': {'N09387': 39.56, 'N09380': 2.22, 'N09388': 98.23, 'N09385': 4.71}, 'N09377': {'N09379': 96.41, 'N09380': 38.17, 'N09378': 103.4, 'N09387': 24.4}, 'N09382': {'N09374': 56.98, 'N09381': 57.97}, 'N09384': {'N09397': 43.53, 'N09383': 62.43}, 'N09391': {'N09389': 38.05, 'N09411': 64.47}, 'N09399': {'N09398': 103.37, 'N09397': 76.86}, 'N09409': {'N09385': 3.13, 'N09404': 4.08}, 'N09397': {'N09399': 76.86, 'N09384': 43.53}, 'N09381': {'N09387': 58.44, 'N09382': 57.97, 'N09392': 75.89}, 'N09413': {'N09414': 6.35, 'N09412': 42.154}, 'N09387': {'N09377': 24.4, 'N09381': 58.44, 'N09373': 39.56}, 'N09411': {'N09391': 64.47, 'N09390': 62.75}, 'N09394': {'N09395': 7.98, 'N09404': 67.88}, 'N09410': {'N09390': 8.5, 'N09374': 44.59}, 'N09403': {'N09406': 67.08, 'N09375': 19.65}, 'N09383': {'N09384': 62.43, 'N09393': 33.9}, 'N09408': {'N09393': 15.92, 'N09407': 10.8}, 'N09392': {'N09412': 66.14, 'N09381': 75.89}, 'N09389': {'N09388': 27.66, 'N09391': 38.05}}\n"
     ]
    }
   ],
   "source": [
    "for i in range(areaNudes.shape[0]):\n",
    "    allNudez[areaNudes['№ т.А'][i]].update([(areaNudes['№ т.Б'][i] , areaNudes['Длина, км'][i])])\n",
    "\n",
    "for i in range(areaNudes.shape[0]):\n",
    "    allNudez[areaNudes['№ т.Б'][i]].update([(areaNudes['№ т.А'][i] , areaNudes['Длина, км'][i])])\n",
    "\n",
    "print(allNudez)"
   ],
   "metadata": {
    "collapsed": false,
    "pycharm": {
     "name": "#%%\n"
    }
   }
  },
  {
   "cell_type": "code",
   "execution_count": 48,
   "outputs": [
    {
     "name": "stdout",
     "output_type": "stream",
     "text": [
      "{'N17636': {'N02052': 83.85, 'N17637': 122.109}, 'N17637': {'N17636': 122.109, 'N17638': 97.59}, 'N17638': {'N20646': 113.98, 'N17637': 97.59}, 'N02052': {'N02057': 78.33, 'N17636': 83.85, 'N02058': 0.12}, 'N20646': {'N20653': 143.5, 'N17638': 113.98}, 'N02053': {'N02071': 20.3}, 'N18639': {'N18642': 82.43, 'N18640': 75.05}, 'N18640': {'N18639': 75.05, 'N18641': 7.188}, 'N18641': {'N18640': 7.188, 'N19644': 59.01}, 'N18642': {'N18643': 96.0, 'N18639': 82.43}, 'N18643': {'N23663': 97.3, 'N18642': 96.0}, 'N23663': {'N18643': 97.3, 'N23671': 85.12}, 'N19644': {'N18641': 59.01, 'N19645': 61.52}, 'N01002': {'N01027': 1.7, 'N01013': 3.66}, 'N01003': {'N01032': 20.68, 'N01001': 5.77}, 'N01004': {'N01047': 37.25, 'N01033': 1.59}, 'N01005': {'N01021': 53.65, 'N01001': 12.892}, 'N01006': {'N01030': 32.49, 'N01041': 60.88}, 'N01007': {'N01048': 9.92, 'N01026': 15.32}, 'N01008': {'N01036': 13.57, 'N01001': 9.146}, 'N01009': {'N01010': 43.1, 'N01033': 5.66, 'N06286': 58.17}, 'N01010': {'N01049': 31.0, 'N01009': 43.1}, 'N01011': {'N01012': 62.2, 'N01016': 54.34}, 'N01012': {'N01015': 24.9, 'N01011': 62.2}, 'N01013': {'N01002': 3.66, 'N01015': 30.66}, 'N01014': {'N01024': 45.65, 'N01021': 35.31}, 'N01015': {'N01013': 30.66, 'N01012': 24.9}, 'N01016': {'N01011': 54.34, 'N01028': 3.11}, 'N01001': {'N01019': 39.18, 'N01037': 34.45, 'N01005': 12.892, 'N01003': 5.77, 'N01008': 9.146}, 'N01017': {'N01040': 63.88, 'N01027': 52.38}, 'N01018': {'N01042': 9.16, 'N01044': 48.55}, 'N01019': {'N01041': 18.65, 'N01001': 39.18}, 'N01020': {'N01048': 51.23, 'N01034': 87.85}, 'N01021': {'N01014': 35.31, 'N01005': 53.65}, 'N01022': {'N01044': 3.55, 'N01038': 26.24}, 'N01023': {'N01031': 53.17}, 'N01024': {'N01046': 65.55, 'N01014': 45.65}, 'N01025': {'N01040': 43.77}, 'N01026': {'N01007': 15.32, 'N01043': 18.84}, 'N01027': {'N01017': 52.38, 'N01002': 1.7, 'N01037': 4.34}, 'N01028': {'N01035': 49.95, 'N01016': 3.11, 'N01049': 3.8}, 'N01029': {'N01039': 30.73, 'N01046': 2.35, 'N01035': 60.99, 'N06296': 73.58}, 'N01030': {'N12550': 40.61, 'N01006': 32.49}, 'N01031': {'N01023': 53.17, 'N01032': 44.34, 'N01050': 4.0}, 'N01032': {'N01031': 44.34, 'N01003': 20.68}, 'N01033': {'N01009': 5.66, 'N01004': 1.59}, 'N01034': {'N01047': 28.2, 'N01020': 87.85}, 'N01035': {'N01029': 60.99, 'N01028': 49.95}, 'N01036': {'N01043': 22.56, 'N01008': 13.57}, 'N01037': {'N01027': 4.34, 'N01001': 34.45}, 'N01038': {'N01022': 26.24, 'N01039': 45.08}, 'N01039': {'N01038': 45.08, 'N01029': 30.73}, 'N01040': {'N01025': 43.77, 'N01017': 63.88}, 'N01041': {'N01006': 60.88, 'N01019': 18.65}, 'N01042': {'N01045': 12.22, 'N01018': 9.16}, 'N01043': {'N01026': 18.84, 'N01036': 22.56}, 'N01044': {'N01018': 48.55, 'N01022': 3.55}, 'N01045': {'N12527': 27.45, 'N01042': 12.22}, 'N01046': {'N01024': 65.55, 'N01029': 2.35}, 'N01047': {'N01004': 37.25, 'N01034': 28.2}, 'N01048': {'N01007': 9.92, 'N01020': 51.23}, 'N12527': {'N12536': 75.58, 'N01045': 27.45}, 'N06286': {'N01009': 58.17, 'N06298': 0.55, 'N06291': 25.78}, 'N01049': {'N01028': 3.8, 'N01010': 31.0}, 'N07308': {'N07307': 3.045, 'N04151': 112.3}, 'N07307': {'N07309': 26.56, 'N07315': 16.34, 'N07319': 25.8, 'N07311': 53.43, 'N07322': 64.4, 'N07308': 3.045}, 'N07309': {'N07307': 26.56, 'N07310': 56.14}, 'N07310': {'N07309': 56.14, 'N07314': 44.46, 'N07311': 32.84}, 'N07311': {'N07310': 32.84, 'N07307': 53.43}, 'N07312': {'N07313': 39.9, 'N07314': 27.41}, 'N07313': {'N07312': 39.9, 'N07318': 59.2}, 'N07314': {'N07310': 44.46, 'N07312': 27.41, 'N13553': 34.38}, 'N07315': {'N07316': 24.17, 'N07307': 16.34}, 'N07316': {'N07317': 37.66, 'N07315': 24.17}, 'N07317': {'N07316': 37.66, 'N07318': 49.62}, 'N07318': {'N07317': 49.62, 'N07313': 59.2}, 'N07319': {'N07320': 52.91, 'N07307': 25.8}, 'N07320': {'N07321': 42.1, 'N07319': 52.91}, 'N07321': {'N07323': 60.0, 'N07320': 42.1}, 'N07322': {'N07323': 49.3, 'N07307': 64.4}, 'N07323': {'N07324': 34.57, 'N07327': 33.19, 'N07322': 49.3, 'N07321': 60.0}, 'N07324': {'N07325': 30.75, 'N07323': 34.57}, 'N07325': {'N07326': 36.36, 'N07324': 30.75}, 'N07326': {'N07330': 50.52, 'N07325': 36.36}, 'N07327': {'N07328': 49.6, 'N07323': 33.19}, 'N07328': {'N07329': 40.5, 'N07327': 49.6}, 'N07329': {'N07330': 51.35, 'N07328': 40.5}, 'N07330': {'N07329': 51.35, 'N07326': 50.52}, 'N04151': {'N04150': 50.66, 'N07308': 112.3, 'N04158': 22.57, 'N04154': 67.58}, 'N04152': {'N04174': 53.91, 'N04172': 53.12}, 'N13553': {'N07314': 34.38, 'N13563': 22.72}, 'N02054': {'N02080': 57.142, 'N02090': 38.1}, 'N02055': {'N02093': 6.16}, 'N14583': {'N14586': 44.02, 'N14598': 38.25, 'N02095': 30.54}, 'N02056': {'N02094': 7.25, 'N02084': 20.7}, 'N02057': {'N02061': 94.465, 'N02051': 67.9, 'N02052': 78.33, 'N02070': 0.9}, 'N02058': {'N02052': 0.12, 'N02092': 2.17}, 'N02059': {'N02051': 24.43, 'N02071': 26.6, 'N02066': 25.116}, 'N02060': {'N02085': 48.6, 'N02069': 37.52}, 'N02061': {'N14584': 91.76, 'N02057': 94.465}, 'N02062': {'N02063': 1.91, 'N02051': 2.04}, 'N02063': {'N02067': 8.2, 'N02062': 1.91}, 'N02051': {'N02062': 2.04, 'N02065': 42.84, 'N02073': 31.5, 'N02093': 45.56, 'N02057': 67.9, 'N02059': 24.43}, 'N02064': {'N02070': 54.9, 'N02081': 36.323, 'N02084': 62.0}, 'N02065': {'N02086': 24.74, 'N02051': 42.84}, 'N02066': {'N02059': 25.116, 'N02077': 38.48}, 'N02067': {'N02079': 83.99, 'N02063': 8.2}, 'N02068': {'N02074': 29.4, 'N02076': 29.92}, 'N02069': {'N02060': 37.52, 'N02086': 14.48}, 'N02070': {'N02057': 0.9, 'N02064': 54.9}, 'N02071': {'N02053': 20.3, 'N02059': 26.6, 'N02093': 1.71}, 'N02072': {'N02078': 48.35, 'N02075': 29.8}, 'N02073': {'N02075': 70.8, 'N02051': 31.5}, 'N02074': {'N02068': 29.4, 'N02083': 66.44}, 'N02075': {'N02095': 55.4, 'N02072': 29.8, 'N02073': 70.8}, 'N02076': {'N02068': 29.92, 'N02091': 61.9}, 'N02077': {'N02066': 38.48, 'N02091': 31.7, 'N02092': 20.4}, 'N02078': {'N02072': 48.35, 'N02080': 27.3}, 'N02079': {'N02087': 71.96, 'N02067': 83.99, 'N02085': 63.39}, 'N02080': {'N02078': 27.3, 'N02054': 57.142}, 'N02081': {'N02089': 34.3, 'N02064': 36.323}, 'N02082': {'N02088': 69.51}, 'N02083': {'N02074': 66.44, 'N02084': 28.7}, 'N02084': {'N02056': 20.7, 'N02083': 28.7, 'N02064': 62.0}, 'N02085': {'N02079': 63.39, 'N02060': 48.6}, 'N02086': {'N02069': 14.48, 'N02065': 24.74}, 'N02087': {'N02088': 84.454, 'N02079': 71.96}, 'N02088': {'N02082': 69.51, 'N02087': 84.454}, 'N02089': {'N02090': 46.4, 'N02081': 34.3}, 'N02090': {'N02054': 38.1, 'N02089': 46.4}, 'N02091': {'N02076': 61.9, 'N02077': 31.7}, 'N02092': {'N02058': 2.17, 'N02077': 20.4}, 'N02093': {'N02071': 1.71, 'N02055': 6.16, 'N02051': 45.56}, 'N02094': {'N02056': 7.25}, 'N02095': {'N14583': 30.54, 'N02075': 55.4}, 'N14584': {'N14587': 89.86, 'N02061': 91.76}, 'N04153': {'N04166': 2.82, 'N04163': 59.72, 'N04162': 2.51}, 'N04154': {'N04151': 67.58, 'N04163': 2.0}, 'N04155': {'N04159': 38.77, 'N04158': 23.46}, 'N04156': {'N04160': 63.28, 'N04159': 15.45}, 'N04157': {'N13554': 84.73, 'N04160': 7.9}, 'N04158': {'N04155': 23.46, 'N04151': 22.57}, 'N04159': {'N04156': 15.45, 'N04155': 38.77}, 'N04160': {'N04157': 7.9, 'N04156': 63.28}, 'N04161': {'N04167': 64.11, 'N04150': 21.79, 'N04168': 59.97}, 'N04162': {'N04153': 2.51, 'N20647': 89.94}, 'N04163': {'N04154': 2.0, 'N04153': 59.72}, 'N04150': {'N04161': 21.79, 'N04151': 50.66, 'N04174': 49.81}, 'N04164': {'N04179': 29.14, 'N04185': 47.22}, 'N04165': {'N04181': 76.55, 'N04183': 39.7}, 'N04166': {'N04175': 40.63, 'N04153': 2.82}, 'N04167': {'N04179': 79.47, 'N04161': 64.11}, 'N04168': {'N04161': 59.97, 'N04181': 40.67, 'N04173': 44.12}, 'N04169': {'N04184': 34.15, 'N04173': 50.23}, 'N04170': {'N04182': 41.33, 'N04176': 46.23}, 'N04171': {'N04180': 36.64, 'N04184': 55.59}, 'N04172': {'N04152': 53.12, 'N04178': 103.18}, 'N04173': {'N04169': 50.23, 'N04168': 44.12}, 'N04174': {'N04150': 49.81, 'N04152': 53.91, 'N04177': 78.8}, 'N04175': {'N04177': 42.81, 'N04166': 40.63}, 'N04176': {'N04170': 46.23, 'N04180': 53.34}, 'N04177': {'N04174': 78.8, 'N04175': 42.81}, 'N04178': {'N04182': 64.79, 'N04172': 103.18}, 'N04179': {'N04167': 79.47, 'N04164': 29.14}, 'N04180': {'N04176': 53.34, 'N04171': 36.64}, 'N04181': {'N04165': 76.55, 'N04168': 40.67, 'N09374': 49.25}, 'N04182': {'N04178': 64.79, 'N04170': 41.33}, 'N04183': {'N04165': 39.7, 'N04185': 54.49}, 'N04184': {'N04171': 55.59, 'N04169': 34.15}, 'N20647': {'N04162': 89.94, 'N20652': 35.55}, 'N09374': {'N04181': 49.25, 'N09410': 44.59, 'N09382': 56.98}, 'N13554': {'N08335': 83.38, 'N04157': 84.73}, 'N04185': {'N04183': 54.49, 'N04164': 47.22}, 'N19645': {'N19644': 61.52, 'N21655': 60.92}, 'N21655': {'N19645': 60.92, 'N21656': 77.61}, 'N06287': {'N06296': 26.17, 'N06302': 21.16}, 'N06288': {'N06293': 4.0, 'N06292': 39.18, 'N06305': 24.9}, 'N06289': {'N06291': 29.74, 'N06292': 42.94}, 'N06290': {'N06285': 2.82, 'N06291': 8.31}, 'N06291': {'N06286': 25.78, 'N06290': 8.31, 'N06289': 29.74}, 'N06292': {'N14585': 42.04, 'N06289': 42.94, 'N06288': 39.18}, 'N06285': {'N06303': 6.29, 'N06301': 11.47, 'N06290': 2.82}, 'N06293': {'N06294': 114.4, 'N06288': 4.0}, 'N06294': {'N06306': 10.0, 'N06293': 114.4}, 'N06295': {'N06296': 28.82, 'N06298': 63.65}, 'N06296': {'N01029': 73.58, 'N06295': 28.82, 'N06287': 26.17}, 'N06297': {'N06302': 3.11, 'N06301': 36.75}, 'N06298': {'N06286': 0.55, 'N06295': 63.65}, 'N06299': {'N14586': 30.54, 'N06304': 67.6}, 'N06300': {'N06306': 53.43, 'N06303': 58.41}, 'N06301': {'N06297': 36.75, 'N06285': 11.47}, 'N06302': {'N06287': 21.16, 'N06297': 3.11}, 'N06303': {'N06300': 58.41, 'N06285': 6.29}, 'N14585': {'N14582': 2.96, 'N06292': 42.04}, 'N14586': {'N14582': 51.62, 'N06299': 30.54, 'N14583': 44.02}, 'N10420': {'N06305': 36.7, 'N10430': 42.8, 'N10465': 18.96, 'N10443': 30.0, 'N10419': 12.0}, 'N06304': {'N06299': 67.6}, 'N06305': {'N06288': 24.9, 'N06306': 0.3, 'N10420': 36.7}, 'N06306': {'N06294': 10.0, 'N06305': 0.3, 'N06300': 53.43}, 'N10421': {'N11468': 71.99, 'N10425': 49.3, 'N03105': 67.88}, 'N03097': {'N03137': 11.35, 'N03096': 88.87}, 'N03098': {'N03127': 105.83, 'N03117': 13.17}, 'N03099': {'N03132': 7.54, 'N03130': 14.56}, 'N03100': {'N03123': 71.37, 'N03114': 4.98, 'N03128': 5.38}, 'N03101': {'N03096': 32.4, 'N03136': 8.69, 'N03111': 43.96}, 'N03102': {'N03147': 95.81, 'N03119': 10.69}, 'N03103': {'N03142': 44.06, 'N03119': 7.9, 'N03124': 30.65}, 'N03104': {'N03121': 100.03, 'N03132': 11.32}, 'N03105': {'N10421': 67.88, 'N03106': 2.5, 'N03110': 3.97}, 'N03106': {'N03146': 56.28, 'N03105': 2.5}, 'N03107': {'N03143': 81.76, 'N03131': 18.78}, 'N03108': {'N03145': 11.99, 'N03132': 5.41}, 'N03109': {'N03132': 24.55, 'N03120': 9.62}, 'N03110': {'N03105': 3.97, 'N08332': 92.91}, 'N03111': {'N03101': 43.96, 'N03131': 1.42}, 'N03112': {'N03122': 59.35, 'N03096': 74.06}, 'N03096': {'N03097': 88.87, 'N03112': 74.06, 'N03139': 78.41, 'N03101': 32.4, 'N03134': 73.29}, 'N03113': {'N03135': 67.0, 'N03126': 31.82}, 'N03114': {'N03100': 4.98, 'N03144': 77.73}, 'N03115': {'N03117': 118.14, 'N03139': 53.97}, 'N03116': {'N03126': 60.62, 'N03146': 31.5}, 'N03117': {'N03098': 13.17, 'N03115': 118.14}, 'N03118': {'N03146': 2.48, 'N03147': 5.16}, 'N03119': {'N03102': 10.69, 'N03103': 7.9, 'N08333': 88.64}, 'N03120': {'N03109': 9.62, 'N03125': 124.73}, 'N03121': {'N03104': 100.03, 'N03148': 44.3}, 'N03122': {'N03141': 61.67, 'N03112': 59.35}, 'N03123': {'N03100': 71.37}, 'N03124': {'N03103': 30.65, 'N03133': 80.79}, 'N03125': {'N03120': 124.73, 'N03137': 96.95}, 'N03126': {'N03113': 31.82, 'N03116': 60.62}, 'N03127': {'N03130': 73.06, 'N03098': 105.83}, 'N03128': {'N03100': 5.38, 'N03145': 33.99}, 'N03129': {'N03134': 50.44, 'N03140': 54.29}, 'N03130': {'N03099': 14.56, 'N03127': 73.06}, 'N03131': {'N03107': 18.78, 'N03111': 1.42}, 'N03132': {'N03104': 11.32, 'N03108': 5.41, 'N03099': 7.54, 'N03109': 24.55}, 'N03133': {'N03149': 55.96, 'N03124': 80.79}, 'N03134': {'N03096': 73.29, 'N03129': 50.44}, 'N03135': {'N03113': 67.0, 'N03143': 71.79}, 'N03136': {'N03101': 8.69}, 'N03137': {'N03125': 96.95, 'N03097': 11.35}, 'N03138': {'N03144': 88.96}, 'N03139': {'N03096': 78.41, 'N03115': 53.97}, 'N03140': {'N03129': 54.29, 'N03142': 37.73}, 'N03141': {'N03122': 61.67, 'N03149': 53.33}, 'N03142': {'N03140': 37.73, 'N03103': 44.06}, 'N03143': {'N03135': 71.79, 'N03107': 81.76}, 'N03144': {'N03148': 2.58, 'N03138': 88.96, 'N03114': 77.73}, 'N03145': {'N03128': 33.99, 'N03108': 11.99}, 'N03146': {'N03116': 31.5, 'N03106': 56.28, 'N03118': 2.48}, 'N03147': {'N03102': 95.81, 'N03118': 5.16}, 'N03148': {'N03121': 44.3, 'N03144': 2.58}, 'N03149': {'N03141': 53.33, 'N03133': 55.96}, 'N08332': {'N03110': 92.91, 'N08336': 67.98}, 'N08333': {'N03119': 88.64, 'N08346': 36.58, 'N08358': 55.46}, 'N08334': {'N08357': 61.28, 'N08352': 56.22}, 'N21656': {'N20648': 93.2, 'N21655': 77.61}, 'N20648': {'N20653': 106.23, 'N21656': 93.2}, 'N14587': {'N10422': 111.12, 'N14582': 40.52, 'N14584': 89.86}, 'N14582': {'N14585': 2.96, 'N14587': 40.52, 'N14603': 15.13, 'N14586': 51.62, 'N14604': 23.4}, 'N14588': {'N14589': 68.51, 'N14599': 54.52}, 'N14589': {'N14588': 68.51, 'N14596': 70.85}, 'N14590': {'N14597': 34.99, 'N14602': 20.41}, 'N14591': {'N14593': 32.88, 'N14594': 58.69}, 'N14592': {'N14594': 41.71, 'N14603': 40.76}, 'N14593': {'N14602': 26.45, 'N14591': 32.88}, 'N14594': {'N14591': 58.69, 'N14592': 41.71}, 'N14595': {'N14599': 42.83, 'N14598': 28.56}, 'N14596': {'N14589': 70.85, 'N14600': 27.88}, 'N14597': {'N14601': 38.42, 'N14590': 34.99}, 'N14598': {'N14595': 28.56, 'N14583': 38.25}, 'N14599': {'N14588': 54.52, 'N14595': 42.83}, 'N14600': {'N14596': 27.88, 'N14601': 53.15}, 'N14601': {'N14600': 53.15, 'N14597': 38.42}, 'N14602': {'N14590': 20.41, 'N14593': 26.45}, 'N14603': {'N14582': 15.13, 'N14592': 40.76}, 'N14604': {'N14582': 23.4}, 'N10422': {'N14587': 111.12, 'N13559': 83.2, 'N10465': 83.43}, 'N15605': {'N15611': 8.01, 'N16617': 28.5042}, 'N15606': {'N15608': 14.81, 'N15615': 86.83}, 'N15607': {'N15613': 3.34, 'N15612': 24.29}, 'N15608': {'N15609': 3.22, 'N15606': 14.81}, 'N15609': {'N15610': 4.89, 'N15608': 3.22}, 'N15610': {'N15612': 3.94, 'N15609': 4.89}, 'N15611': {'N15605': 8.01, 'N15613': 14.6}, 'N15612': {'N15607': 24.29, 'N15610': 3.94}, 'N15613': {'N15611': 14.6, 'N15607': 3.34}, 'N15614': {'N15615': 157.81, 'N05195': 40.177800000000005}, 'N15615': {'N15606': 86.83, 'N15614': 157.81}, 'N15616': {'N05188': 27.02}, 'N05187': {'N05284': 25.34, 'N05209': 44.146}, 'N05188': {'N05283': 18.21, 'N15616': 27.02}, 'N16617': {'N15605': 28.5042, 'N16620': 4.047}, 'N12528': {'N12542': 15.8, 'N12544': 46.5}, 'N12529': {'N12538': 2.5, 'N12535': 27.62}, 'N12530': {'N05189': 81.547, 'N12542': 2.93, 'N12532': 51.49, 'N12533': 91.25}, 'N12531': {'N12532': 32.68, 'N10423': 50.84}, 'N12532': {'N12543': 4.6, 'N12531': 32.68, 'N12530': 51.49}, 'N12533': {'N12530': 91.25, 'N12526': 5.57}, 'N12534': {'N12551': 2.44, 'N12542': 38.73, 'N12526': 4.48}, 'N12535': {'N12529': 27.62, 'N12540': 53.72, 'N12541': 50.93}, 'N12536': {'N12548': 39.63, 'N12527': 75.58, 'N12543': 45.36}, 'N12537': {'N12547': 35.76, 'N12544': 87.48}, 'N12538': {'N12550': 42.97, 'N12529': 2.5}, 'N12539': {'N12541': 34.69, 'N12547': 54.36}, 'N12540': {'N12535': 53.72, 'N12549': 50.44, 'N12545': 71.11}, 'N12541': {'N12535': 50.93, 'N12539': 34.69}, 'N12542': {'N12528': 15.8, 'N12530': 2.93, 'N12534': 38.73}, 'N12543': {'N12536': 45.36, 'N12532': 4.6}, 'N12544': {'N12537': 87.48, 'N12528': 46.5}, 'N12545': {'N12546': 45.96, 'N12540': 71.11}, 'N12546': {'N12545': 45.96, 'N12548': 48.38}, 'N12547': {'N12539': 54.36, 'N12537': 35.76}, 'N12548': {'N12546': 48.38, 'N12536': 39.63}, 'N12549': {'N12540': 50.44, 'N12551': 45.32}, 'N12550': {'N01030': 40.61, 'N12538': 42.97}, 'N12551': {'N12549': 45.32, 'N12534': 2.44}, 'N05189': {'N05253': 8.55, 'N05203': 81.547, 'N12530': 81.547}, 'N10423': {'N12531': 50.84, 'N10428': 19.05}, 'N12526': {'N12534': 4.48, 'N12533': 5.57}, 'N11468': {'N11469': 87.1, 'N10421': 71.99}, 'N11469': {'N11525': 46.74, 'N11470': 64.23, 'N11468': 87.1, 'N11471': 6.0}, 'N11470': {'N11522': 8.69, 'N11469': 64.23}, 'N11471': {'N11473': 58.0, 'N11472': 48.0, 'N11469': 6.0, 'N11498': 53.0}, 'N11472': {'N11471': 48.0}, 'N11473': {'N11474': 47.0, 'N11484': 62.0, 'N11471': 58.0, 'N11522': 0.1}, 'N11474': {'N11475': 57.0, 'N11473': 47.0}, 'N11475': {'N11476': 138.0, 'N11474': 57.0}, 'N11476': {'N11477': 78.0, 'N11475': 138.0}, 'N11477': {'N11478': 62.0, 'N11476': 78.0}, 'N11478': {'N11479': 87.0, 'N11477': 62.0}, 'N11479': {'N11480': 63.0, 'N11478': 87.0}, 'N11480': {'N11481': 130.0, 'N11479': 63.0}, 'N11481': {'N11482': 95.0, 'N11480': 130.0}, 'N11482': {'N11483': 47.0, 'N11481': 95.0}, 'N11483': {'N11482': 47.0, 'N11484': 77.0, 'N11485': 66.0}, 'N11484': {'N11483': 77.0, 'N11473': 62.0}, 'N11485': {'N11483': 66.0, 'N11487': 65.0}, 'N11486': {'N11487': 53.0, 'N11489': 51.0}, 'N11487': {'N11485': 65.0, 'N11486': 53.0}, 'N11488': {'N11489': 124.0, 'N11490': 56.0}, 'N11489': {'N11486': 51.0, 'N11488': 124.0}, 'N11490': {'N11491': 66.0, 'N11488': 56.0}, 'N11491': {'N11492': 61.0, 'N11490': 66.0}, 'N11492': {'N11493': 42.0, 'N11491': 61.0}, 'N11493': {'N11494': 24.0, 'N11492': 42.0}, 'N11494': {'N11495': 89.0, 'N11493': 24.0}, 'N11495': {'N11499': 38.0, 'N11494': 89.0}, 'N11496': {'N11499': 36.0, 'N11497': 97.0}, 'N11497': {'N11498': 29.0, 'N11496': 97.0}, 'N11498': {'N11471': 53.0, 'N11497': 29.0}, 'N11499': {'N11500': 46.0, 'N11495': 38.0, 'N11496': 36.0}, 'N11500': {'N11501': 53.0, 'N11499': 46.0}, 'N11501': {'N11502': 56.0, 'N11500': 53.0}, 'N11502': {'N11503': 44.0, 'N11501': 56.0}, 'N11503': {'N11504': 103.0, 'N11502': 44.0}, 'N11504': {'N11505': 36.0, 'N11503': 103.0}, 'N11505': {'N11506': 58.0, 'N11504': 36.0, 'N11520': 85.0}, 'N11506': {'N11507': 46.0, 'N11508': 23.0, 'N11505': 58.0}, 'N11507': {'N11506': 46.0}, 'N11508': {'N11509': 43.0, 'N11506': 23.0}, 'N11509': {'N11510': 46.0, 'N11508': 43.0}, 'N11510': {'N11512': 97.0, 'N11509': 46.0}, 'N11511': {'N11512': 58.0, 'N11522': 78.0}, 'N11512': {'N11513': 90.0, 'N11510': 97.0, 'N11511': 58.0}, 'N11513': {'N11514': 114.0, 'N11512': 90.0}, 'N11514': {'N11524': 123.0, 'N11523': 100.0, 'N11515': 126.0, 'N11513': 114.0}, 'N11515': {'N11516': 104.0, 'N11514': 126.0}, 'N11516': {'N11515': 104.0, 'N11517': 45.0}, 'N11517': {'N11516': 45.0, 'N11518': 103.0}, 'N11518': {'N11519': 86.0, 'N11517': 103.0}, 'N11519': {'N11520': 78.0, 'N11518': 86.0}, 'N11520': {'N11505': 85.0, 'N11519': 78.0}, 'N11521': {'N16618': 55.913, 'N11525': 46.74}, 'N11522': {'N11473': 0.1, 'N11467': 21.961, 'N11511': 78.0, 'N11470': 8.69}, 'N11523': {'N11514': 100.0}, 'N11524': {'N11514': 123.0}, 'N16618': {'N16622': 23.556, 'N11521': 55.913}, 'N11467': {'N11522': 21.961, 'N11525': 20.7}, 'N08335': {'N08339': 40.55, 'N08341': 50.94, 'N08368': 1.05, 'N13555': 88.79, 'N13554': 83.38}, 'N08336': {'N08332': 67.98, 'N08340': 10.32, 'N08356': 8.3}, 'N08337': {'N08366': 30.45, 'N08369': 4.49, 'N08371': 10.29}, 'N08338': {'N08343': 10.67, 'N08340': 21.97}, 'N08339': {'N08342': 49.9, 'N08335': 40.55}, 'N08340': {'N08336': 10.32, 'N08338': 21.97, 'N08342': 59.36}, 'N08341': {'N09375': 64.43, 'N08335': 50.94}, 'N08342': {'N08340': 59.36, 'N08339': 49.9}, 'N08343': {'N08356': 42.83, 'N08371': 16.96, 'N08331': 1.52, 'N08338': 10.67, 'N08351': 47.95}, 'N08344': {'N08348': 83.24, 'N08358': 32.36}, 'N08345': {'N08361': 76.41, 'N08366': 27.33}, 'N08346': {'N08333': 36.58, 'N08351': 67.67, 'N08370': 44.024}, 'N08347': {'N08360': 38.71, 'N08348': 51.31}, 'N08348': {'N08347': 51.31, 'N08344': 83.24}, 'N08349': {'N08368': 84.77, 'N08364': 13.4}, 'N08350': {'N08367': 36.8, 'N08362': 55.38}, 'N08351': {'N08343': 47.95, 'N08346': 67.67}, 'N08352': {'N08334': 56.22, 'N08370': 20.22}, 'N08353': {'N08357': 24.6, 'N08367': 61.39}, 'N08354': {'N13556': 59.29, 'N08356': 55.92, 'N08362': 69.65}, 'N08355': {'N08365': 81.97, 'N08360': 37.22}, 'N08356': {'N08336': 8.3, 'N08354': 55.92, 'N08364': 96.4, 'N08343': 42.83}, 'N08357': {'N08353': 24.6, 'N08334': 61.28}, 'N08358': {'N08344': 32.36, 'N08333': 55.46}, 'N08359': {'N08361': 62.27, 'N08363': 17.18}, 'N08360': {'N08355': 37.22, 'N08347': 38.71}, 'N08361': {'N08345': 76.41, 'N08359': 62.27, 'N08365': 42.26}, 'N08362': {'N08350': 55.38, 'N08354': 69.65}, 'N08363': {'N08359': 17.18, 'N08368': 39.44}, 'N08364': {'N08349': 13.4, 'N08356': 96.4, 'N08372': 9.0}, 'N08365': {'N08355': 81.97, 'N08361': 42.26}, 'N08366': {'N08345': 27.33, 'N08337': 30.45}, 'N08367': {'N08353': 61.39, 'N08350': 36.8}, 'N08368': {'N08363': 39.44, 'N08335': 1.05, 'N08349': 84.77}, 'N08369': {'N08337': 4.49}, 'N08370': {'N08346': 44.024, 'N08352': 20.22}, 'N08371': {'N08337': 10.29, 'N08343': 16.96}, 'N09375': {'N09403': 19.65, 'N08341': 64.43}, 'N09376': {'N09386': 41.67, 'N09398': 100.57}, 'N13555': {'N13558': 16.62, 'N08335': 88.79}, 'N13556': {'N08354': 59.29, 'N13567': 25.44}, 'N08331': {'N08343': 1.52}, 'N08372': {'N08364': 9.0}, 'N13557': {'N13577': 2.0, 'N13559': 70.51, 'N13558': 65.0}, 'N13558': {'N13557': 65.0, 'N13555': 16.62}, 'N13559': {'N10422': 83.2, 'N13557': 70.51}, 'N13560': {'N13580': 9.12, 'N13562': 26.56, 'N13564': 16.47}, 'N13561': {'N13577': 49.67, 'N13564': 10.52}, 'N13562': {'N13578': 37.41, 'N13560': 26.56}, 'N13563': {'N13553': 22.72, 'N13569': 23.32}, 'N13564': {'N13579': 26.18, 'N13560': 16.47, 'N13561': 10.52, 'N13552': 13.1}, 'N13565': {'N13581': 31.37, 'N13572': 74.0}, 'N13566': {'N13571': 41.24, 'N13569': 27.78}, 'N13567': {'N13579': 56.08, 'N13556': 25.44}, 'N13568': {'N13569': 75.97, 'N13581': 34.04}, 'N13569': {'N13566': 27.78, 'N13563': 23.32, 'N13568': 75.97}, 'N13570': {'N13578': 64.88, 'N13573': 56.78}, 'N13571': {'N13577': 30.81, 'N13566': 41.24}, 'N13572': {'N13574': 58.81, 'N13565': 74.0}, 'N13573': {'N13570': 56.78, 'N13575': 42.64}, 'N13574': {'N13576': 38.95, 'N13572': 58.81}, 'N13575': {'N13573': 42.64, 'N13576': 23.36}, 'N13576': {'N13575': 23.36, 'N13574': 38.95}, 'N13577': {'N13557': 2.0, 'N13571': 30.81, 'N13561': 49.67}, 'N13578': {'N13562': 37.41, 'N13570': 64.88}, 'N13579': {'N13564': 26.18, 'N13567': 56.08}, 'N13580': {'N13560': 9.12}, 'N13581': {'N13568': 34.04, 'N13565': 31.37}, 'N13552': {'N13564': 13.1}, 'N09377': {'N09379': 96.41, 'N09380': 38.17, 'N09378': 103.4, 'N09387': 24.4}, 'N09378': {'N09377': 103.4, 'N09406': 60.52}, 'N09379': {'N22657': 131.98, 'N09377': 96.41}, 'N09380': {'N09373': 2.22, 'N09377': 38.17}, 'N09381': {'N09387': 58.44, 'N09382': 57.97, 'N09392': 75.89}, 'N09382': {'N09374': 56.98, 'N09381': 57.97}, 'N09373': {'N09387': 39.56, 'N09380': 2.22, 'N09388': 98.23, 'N09385': 4.71}, 'N09383': {'N09384': 62.43, 'N09393': 33.9}, 'N09384': {'N09397': 43.53, 'N09383': 62.43}, 'N09385': {'N09373': 4.71, 'N09409': 3.13}, 'N09386': {'N09376': 41.67, 'N09416': 82.58}, 'N09387': {'N09377': 24.4, 'N09381': 58.44, 'N09373': 39.56}, 'N09388': {'N09373': 98.23, 'N09389': 27.66}, 'N09389': {'N09388': 27.66, 'N09391': 38.05}, 'N09390': {'N09411': 62.75, 'N09410': 8.5}, 'N09391': {'N09389': 38.05, 'N09411': 64.47}, 'N09392': {'N09412': 66.14, 'N09381': 75.89}, 'N09393': {'N09402': 37.46, 'N09383': 33.9, 'N09408': 15.92}, 'N09394': {'N09395': 7.98, 'N09404': 67.88}, 'N09395': {'N09417': 16.14, 'N09407': 5.91, 'N09394': 7.98}, 'N09396': {'N09406': 1.28, 'N09418': 32.18, 'N09405': 2.8}, 'N09397': {'N09399': 76.86, 'N09384': 43.53}, 'N09398': {'N09376': 100.57, 'N09399': 103.37}, 'N09399': {'N09398': 103.37, 'N09397': 76.86}, 'N09400': {'N09401': 67.34}, 'N09401': {'N09400': 67.34, 'N09402': 51.7}, 'N09402': {'N09401': 51.7, 'N09393': 37.46}, 'N09403': {'N09406': 67.08, 'N09375': 19.65}, 'N09404': {'N09409': 4.08, 'N09394': 67.88}, 'N09405': {'N09396': 2.8, 'N09416': 13.94}, 'N09406': {'N09378': 60.52, 'N09396': 1.28, 'N09403': 67.08}, 'N09407': {'N09408': 10.8, 'N09395': 5.91}, 'N09408': {'N09393': 15.92, 'N09407': 10.8}, 'N09409': {'N09385': 3.13, 'N09404': 4.08}, 'N09410': {'N09390': 8.5, 'N09374': 44.59}, 'N09411': {'N09391': 64.47, 'N09390': 62.75}, 'N09412': {'N09413': 42.154, 'N09392': 66.14}, 'N09413': {'N09414': 6.35, 'N09412': 42.154}, 'N09414': {'N09415': 14.75, 'N09413': 6.35}, 'N09415': {'N09418': 71.03, 'N09414': 14.75}, 'N09416': {'N09405': 13.94, 'N09386': 82.58}, 'N22657': {'N22662': 138.15, 'N09379': 131.98}, 'N09417': {'N09395': 16.14}, 'N09418': {'N09415': 71.03, 'N09396': 32.18}, 'N22658': {'N22661': 74.96, 'N22662': 52.17}, 'N22659': {'N23665': 26.97, 'N23664': 36.96}, 'N22660': {'N22661': 59.06, 'N23665': 21.31}, 'N22661': {'N22658': 74.96, 'N22660': 59.06}, 'N22662': {'N22658': 52.17, 'N22657': 138.15}, 'N23664': {'N22659': 36.96, 'N23670': 48.8}, 'N23665': {'N22660': 21.31, 'N22659': 26.97}, 'N23666': {'N23667': 43.15}, 'N23667': {'N23668': 19.27, 'N23666': 43.15}, 'N23668': {'N23673': 26.18, 'N23667': 19.27}, 'N23669': {'N23672': 39.2, 'N23670': 39.4}, 'N23670': {'N23669': 39.4, 'N23664': 48.8}, 'N23671': {'N23663': 85.12, 'N23673': 88.29}, 'N23672': {'N23673': 15.9, 'N23669': 39.2}, 'N23673': {'N23671': 88.29, 'N23668': 26.18, 'N23672': 15.9}, 'N16619': {'N16634': 55.894, 'N16629': 45.417}, 'N16620': {'N16617': 4.047, 'N16621': 46.537}, 'N16621': {'N16620': 46.537, 'N16635': 15.619}, 'N16622': {'N16631': 11.411, 'N16618': 23.556}, 'N16623': {'N16624': 7.937, 'N16631': 3.952}, 'N16624': {'N16625': 16.075, 'N16623': 7.937}, 'N16625': {'N16626': 22.85, 'N16624': 16.075}, 'N16626': {'N16632': 31.92, 'N16625': 22.85}, 'N16627': {'N16628': 51.864, 'N16632': 20.07}, 'N16628': {'N16633': 0.402, 'N16627': 51.864}, 'N16629': {'N16619': 45.417, 'N16633': 35.197}, 'N16630': {'N16635': 24.355, 'N16634': 25.794}, 'N16631': {'N16623': 3.952, 'N16622': 11.411}, 'N16632': {'N16627': 20.07, 'N16626': 31.92}, 'N16633': {'N16629': 35.197, 'N16628': 0.402}, 'N16634': {'N16630': 25.794, 'N16619': 55.894}, 'N16635': {'N16621': 15.619, 'N16630': 24.355}, 'N20649': {'N20653': 39.54, 'N20650': 19.83}, 'N20650': {'N20649': 19.83, 'N20654': 25.2}, 'N20651': {'N20652': 39.65, 'N20654': 3.91}, 'N20652': {'N20647': 35.55, 'N20651': 39.65}, 'N20653': {'N20649': 39.54, 'N20646': 143.5, 'N20648': 106.23}, 'N20654': {'N20650': 25.2, 'N20651': 3.91}, 'N05190': {'N05229': 58.332, 'N05234': 78.88}, 'N05191': {'N05203': 41.281, 'N05257': 73.33}, 'N05192': {'N05194': 32.6697, 'N05234': 8.013, 'N05193': 12.81}, 'N05193': {'N05192': 12.81, 'N05257': 60.257}, 'N05194': {'N05195': 10.804200000000002, 'N05192': 32.6697}, 'N05195': {'N15614': 40.177800000000005, 'N05266': 3.517, 'N05194': 10.804200000000002}, 'N05196': {'N05199': 3.51, 'N05268': 9.914}, 'N05197': {'N05186': 3.892, 'N05199': 9.19}, 'N05198': {'N05265': 12.518, 'N05186': 2.448}, 'N05199': {'N05197': 9.19, 'N05196': 3.51}, 'N05200': {'N05207': 10.044, 'N05206': 2.256}, 'N05201': {'N05204': 3.328, 'N05210': 3.096}, 'N05202': {'N05239': 41.33, 'N05241': 4.577}, 'N05203': {'N05267': 1.09, 'N05191': 41.281, 'N05189': 81.547}, 'N05204': {'N05205': 21.618, 'N05201': 3.328}, 'N05205': {'N05206': 15.647, 'N05204': 21.618}, 'N05206': {'N05200': 2.256, 'N05205': 15.647}, 'N05207': {'N05208': 19.076, 'N05200': 10.044}, 'N05208': {'N05212': 16.468, 'N05207': 19.076}, 'N05209': {'N05187': 44.146, 'N05255': 48.531}, 'N05210': {'N05201': 3.096, 'N05280': 6.643, 'N05274': 4.5}, 'N05211': {'N05223': 2.156, 'N05252': 4.0}, 'N05212': {'N05258': 24.003, 'N05208': 16.468}, 'N05213': {'N05231': 9.56, 'N05256': 4.872}, 'N05214': {'N05215': 19.065, 'N05228': 16.072}, 'N05215': {'N05216': 25.434, 'N05214': 19.065}, 'N05216': {'N05217': 8.683, 'N05215': 25.434}, 'N05217': {'N05216': 8.683, 'N05261': 4.405}, 'N05218': {'N05219': 31.512, 'N05261': 9.391}, 'N05219': {'N05221': 7.429, 'N05218': 31.512}, 'N05220': {'N05222': 12.644, 'N05221': 0.865}, 'N05221': {'N05220': 0.865, 'N05219': 7.429}, 'N05222': {'N05236': 19.679, 'N05220': 12.644}, 'N05223': {'N05211': 2.156, 'N05224': 12.424}, 'N05224': {'N05225': 3.18, 'N05223': 12.424}, 'N05225': {'N05224': 3.18, 'N05226': 1.509}, 'N05226': {'N05225': 1.509, 'N05277': 0.333}, 'N05227': {'N05272': 2.541, 'N05277': 12.211}, 'N05228': {'N05258': 4.287, 'N05214': 16.072}, 'N05229': {'N05186': 2.412, 'N05190': 58.332}, 'N05230': {'N05245': 11.524, 'N05273': 13.689}, 'N05231': {'N05278': 6.728, 'N05213': 9.56}, 'N05232': {'N05251': 29.686, 'N05250': 19.953}, 'N05233': {'N05247': 5.92, 'N05243': 92.064}, 'N05234': {'N05192': 8.013, 'N05263': 0.215, 'N05190': 78.88}, 'N05186': {'N05198': 2.448, 'N05197': 3.892, 'N05229': 2.412}, 'N05235': {'N05244': 17.663, 'N05275': 31.026}, 'N05236': {'N05275': 31.311, 'N05222': 19.679, 'N05262': 40.237}, 'N05237': {'N05271': 24.398, 'N05251': 29.634}, 'N05238': {'N05243': 33.731, 'N05251': 25.673}, 'N05239': {'N05274': 42.268, 'N05202': 41.33}, 'N05240': {'N05278': 21.553, 'N05283': 40.4}, 'N05241': {'N05202': 4.577, 'N05276': 28.333}, 'N05242': {'N05281': 15.056, 'N05254': 53.428}, 'N05243': {'N05233': 92.064, 'N05238': 33.731}, 'N05244': {'N05276': 2.632, 'N05235': 17.663}, 'N05245': {'N05230': 11.524}, 'N05246': {'N05250': 33.888, 'N05269': 14.408}, 'N05247': {'N05233': 5.92}, 'N05248': {'N05267': 55.35, 'N05255': 38.625}, 'N05249': {'N05264': 3.816, 'N05263': 13.739}, 'N05250': {'N05232': 19.953, 'N05246': 33.888}, 'N05251': {'N05238': 25.673, 'N05237': 29.634, 'N05232': 29.686}, 'N05252': {'N05211': 4.0, 'N05262': 1.451}, 'N05253': {'N05189': 8.55, 'N05282': 12.366}, 'N05254': {'N05242': 53.428, 'N05271': 40.218}, 'N05255': {'N05209': 48.531, 'N05248': 38.625}, 'N05256': {'N05213': 4.872, 'N05280': 6.2, 'N05260': 22.05}, 'N05257': {'N05193': 60.257, 'N05191': 73.33}, 'N05258': {'N05265': 26.654, 'N05212': 24.003, 'N05228': 4.287}, 'N05259': {'N05260': 71.87, 'N05264': 31.169}, 'N05260': {'N05259': 71.87, 'N05256': 22.05}, 'N05261': {'N05217': 4.405, 'N05218': 9.391}, 'N05262': {'N05252': 1.451, 'N05236': 40.237}, 'N05263': {'N05249': 13.739, 'N05234': 0.215}, 'N05264': {'N05259': 31.169, 'N05249': 3.816}, 'N05265': {'N05198': 12.518, 'N05258': 26.654}, 'N05266': {'N05195': 3.517, 'N05284': 55.83}, 'N05267': {'N05203': 1.09, 'N05248': 55.35}, 'N05268': {'N05196': 9.914, 'N05270': 2.364}, 'N05269': {'N05246': 14.408, 'N05270': 7.144}, 'N05270': {'N05268': 2.364, 'N05269': 7.144}, 'N05271': {'N05254': 40.218, 'N05237': 24.398}, 'N05272': {'N05279': 33.03, 'N05227': 2.541}, 'N05273': {'N05230': 13.689, 'N05279': 22.632}, 'N05274': {'N05210': 4.5, 'N05239': 42.268}, 'N05275': {'N05235': 31.026, 'N05236': 31.311}, 'N05276': {'N05241': 28.333, 'N05244': 2.632}, 'N05277': {'N05226': 0.333, 'N05227': 12.211}, 'N05278': {'N05240': 21.553, 'N05231': 6.728}, 'N05279': {'N05273': 22.632, 'N05272': 33.03}, 'N05280': {'N05210': 6.643, 'N05256': 6.2}, 'N05281': {'N05282': 62.188, 'N05242': 15.056}, 'N05282': {'N05253': 12.366, 'N05281': 62.188}, 'N05283': {'N05188': 18.21, 'N05240': 40.4}, 'N05284': {'N05266': 55.83, 'N05187': 25.34}, 'N10419': {'N10420': 12.0, 'N10456': 17.42}, 'N10424': {'N10458': 57.42, 'N10429': 66.5, 'N10457': 1.0}, 'N10425': {'N10460': 67.28, 'N10421': 49.3}, 'N10426': {'N10462': 2.0, 'N10461': 68.8}, 'N10427': {'N10428': 35.0, 'N10447': 7.0, 'N10464': 18.78}, 'N10428': {'N10423': 19.05, 'N10427': 35.0, 'N10459': 33.98, 'N10447': 35.22}, 'N10429': {'N10459': 34.17, 'N10424': 66.5}, 'N10430': {'N10420': 42.8, 'N10456': 13.2, 'N10458': 14.79}, 'N01050': {'N01031': 4.0}, 'N10431': {'N10452': 70.0, 'N10453': 50.0}, 'N10432': {'N10450': 68.0, 'N10437': 90.0}, 'N10433': {'N10466': 30.0, 'N10455': 40.0, 'N10437': 63.0}, 'N10434': {'N10461': 7.58, 'N10449': 102.0}, 'N10435': {'N10441': 47.26, 'N10438': 39.72}, 'N10436': {'N10453': 45.0, 'N10440': 42.0}, 'N10437': {'N10433': 63.0, 'N10432': 90.0}, 'N10438': {'N10435': 39.72, 'N10444': 55.64}, 'N10439': {'N10444': 62.87, 'N10457': 24.71}, 'N10440': {'N10436': 42.0, 'N10446': 30.0}, 'N10441': {'N10435': 47.26, 'N10443': 70.0}, 'N10442': {'N10462': 13.6, 'N10452': 50.0}, 'N10443': {'N10441': 70.0, 'N10420': 30.0}, 'N10444': {'N10438': 55.64, 'N10439': 62.87}, 'N10445': {'N10451': 64.0, 'N10466': 35.0}, 'N10446': {'N10440': 30.0, 'N10454': 100.0}, 'N10447': {'N10428': 35.22, 'N10427': 7.0}, 'N10448': {'N10464': 29.05, 'N10455': 120.0}, 'N10449': {'N10434': 102.0, 'N10455': 68.0}, 'N10450': {'N10454': 96.0, 'N10432': 68.0}, 'N10451': {'N10458': 10.0, 'N10445': 64.0}, 'N10452': {'N10431': 70.0, 'N10442': 50.0}, 'N10453': {'N10431': 50.0, 'N10436': 45.0}, 'N10454': {'N10446': 100.0, 'N10450': 96.0}, 'N10455': {'N10448': 120.0, 'N10449': 68.0, 'N10433': 40.0}, 'N10456': {'N10430': 13.2, 'N10419': 17.42}, 'N10457': {'N10439': 24.71, 'N10424': 1.0}, 'N10458': {'N10430': 14.79, 'N10424': 57.42, 'N10451': 10.0}, 'N10459': {'N10428': 33.98, 'N10429': 34.17}, 'N10460': {'N10461': 0.05, 'N10425': 67.28}, 'N10461': {'N10426': 68.8, 'N10434': 7.58, 'N10460': 0.05}, 'N10462': {'N10463': 24.93, 'N10426': 2.0, 'N10442': 13.6}, 'N10463': {'N10464': 6.49, 'N10462': 24.93}, 'N10464': {'N10427': 18.78, 'N10448': 29.05, 'N10463': 6.49}, 'N10465': {'N10422': 83.43, 'N10420': 18.96}, 'N10466': {'N10445': 35.0, 'N10433': 30.0}, 'N11525': {'N11467': 20.7, 'N11521': 46.74, 'N11469': 46.74}}\n"
     ]
    }
   ],
   "source": [
    "for i in range(df2.shape[0]):\n",
    "    allNudes[df2['№ т.А'][i]].update([(df2['№ т.Б'][i] , df2['Длина, км'][i])])\n",
    "\n",
    "for i in range(df2.shape[0]):\n",
    "    allNudes[df2['№ т.Б'][i]].update([(df2['№ т.А'][i] , df2['Длина, км'][i])])\n",
    "\n",
    "print(allNudes)"
   ],
   "metadata": {
    "collapsed": false,
    "pycharm": {
     "name": "#%%\n"
    }
   }
  },
  {
   "cell_type": "code",
   "execution_count": 3,
   "outputs": [
    {
     "name": "stdout",
     "output_type": "stream",
     "text": [
      "276.90999999999997\n",
      "['N09400', 'N09401', 'N09402', 'N09393', 'N09408', 'N09407', 'N09395', 'N09394', 'N09404', 'N09409', 'N09385', 'N09373']\n"
     ]
    }
   ],
   "source": [
    "import dijkstra as dj\n",
    "allNEdes = allNudes.copy()\n",
    "firstPath = dj.shortest_path(allNEdes,start='N09400',end='N09373')\n",
    "FTest = dj.dijkstra(allNEdes,start='N09400',end='N09373')\n",
    "print(FTest[0].get('N09373'))\n",
    "print(dj.shortest_path(allNEdes,start='N09400',end='N09373'))"
   ],
   "metadata": {
    "collapsed": false,
    "pycharm": {
     "name": "#%%\n"
    }
   }
  },
  {
   "cell_type": "code",
   "execution_count": 8,
   "outputs": [],
   "source": [
    "for i in range(0,len(firstPath)-1):\n",
    "    #print(firstPath[i])\n",
    "    #print(allNudes[firstPath[i]])\n",
    "    #print(allNudes[firstPath[i]].get(firstPath[i+1]))\n",
    "\n",
    "    allNudes[firstPath[i]].update([(firstPath[i+1] , allNudes[firstPath[i]].get(firstPath[i+1]) + 9000)])\n",
    "\n",
    "    #print(allNudes[firstPath[i]])"
   ],
   "metadata": {
    "collapsed": false,
    "pycharm": {
     "name": "#%%\n"
    }
   }
  },
  {
   "cell_type": "code",
   "execution_count": 9,
   "outputs": [
    {
     "name": "stdout",
     "output_type": "stream",
     "text": [
      "27923.739999999998\n"
     ]
    }
   ],
   "source": [
    "#print(dj.shortest_path(allNEdes,start='N09404',end='N09373'))\n",
    "STest = dj.dijkstra(allNEdes,start='N09400',end='N09373')\n",
    "print(STest[0].get('N09373'))\n",
    "secondPath = dj.shortest_path(allNEdes,start='N09400',end='N09373')"
   ],
   "metadata": {
    "collapsed": false,
    "pycharm": {
     "name": "#%%\n"
    }
   }
  },
  {
   "cell_type": "code",
   "execution_count": 15,
   "outputs": [],
   "source": [
    "sameNudes = []\n",
    "trueLen = STest[0].get('N09373')\n",
    "for i in range(1,len(firstPath)-1):\n",
    "    for b in range(1,len(secondPath)-1):\n",
    "        if(firstPath[i] == secondPath[b]):\n",
    "            sameNudes.append(firstPath[i])\n",
    "            trueLen -= 9000\n",
    "            break\n",
    "        else:\n",
    "            continue\n",
    "if(len(sameNudes) == 0):\n",
    "    trueLen = 0\n"
   ],
   "metadata": {
    "collapsed": false,
    "pycharm": {
     "name": "#%%\n"
    }
   }
  },
  {
   "cell_type": "code",
   "execution_count": 16,
   "outputs": [
    {
     "name": "stdout",
     "output_type": "stream",
     "text": [
      "923.739999999998\n"
     ]
    }
   ],
   "source": [
    "print(trueLen)"
   ],
   "metadata": {
    "collapsed": false,
    "pycharm": {
     "name": "#%%\n"
    }
   }
  },
  {
   "cell_type": "code",
   "execution_count": 82,
   "outputs": [
    {
     "name": "stderr",
     "output_type": "stream",
     "text": [
      "C:\\Users\\vczyp\\AppData\\Local\\Temp\\ipykernel_5836\\3678697239.py:8: FutureWarning: The frame.append method is deprecated and will be removed from pandas in a future version. Use pandas.concat instead.\n",
      "  DF = df.append((DF), ignore_index = True)\n"
     ]
    },
    {
     "data": {
      "text/plain": "  Пут1 Длина1 Путь2 Длина2 Одинаковые узлы\n0                                         ",
      "text/html": "<div>\n<style scoped>\n    .dataframe tbody tr th:only-of-type {\n        vertical-align: middle;\n    }\n\n    .dataframe tbody tr th {\n        vertical-align: top;\n    }\n\n    .dataframe thead th {\n        text-align: right;\n    }\n</style>\n<table border=\"1\" class=\"dataframe\">\n  <thead>\n    <tr style=\"text-align: right;\">\n      <th></th>\n      <th>Пут1</th>\n      <th>Длина1</th>\n      <th>Путь2</th>\n      <th>Длина2</th>\n      <th>Одинаковые узлы</th>\n    </tr>\n  </thead>\n  <tbody>\n    <tr>\n      <th>0</th>\n      <td></td>\n      <td></td>\n      <td></td>\n      <td></td>\n      <td></td>\n    </tr>\n  </tbody>\n</table>\n</div>"
     },
     "metadata": {},
     "output_type": "display_data"
    }
   ],
   "source": [
    "import numpy as np\n",
    "import pandas as pd\n",
    "df = pd.DataFrame()\n",
    "#s2 = pd.Series(['','','','',''], index=['Пут1','Длина1','Путь2','Длина2','Одинаковые узлы'])\n",
    "#df = df.append(pd.Series([np.nan]), ignore_index = True)\n",
    "#df.append(pd.Series(name='NameOfNewRow'))\n",
    "DF = pd.Series(['','','','',''], index=['Пут1','Длина1','Путь2','Длина2','Одинаковые узлы'])\n",
    "DF = df.append((DF), ignore_index = True)\n",
    "display(DF)"
   ],
   "metadata": {
    "collapsed": false,
    "pycharm": {
     "name": "#%%\n"
    }
   }
  },
  {
   "cell_type": "code",
   "execution_count": 78,
   "outputs": [
    {
     "name": "stdout",
     "output_type": "stream",
     "text": [
      "5\n"
     ]
    },
    {
     "data": {
      "text/plain": "                               Пут1                            Длина1  \\\n0  [N09404, N09409, N09385, N09373]  [N09404, N09409, N09385, N09373]   \n\n                              Путь2                            Длина2  \\\n0  [N09404, N09409, N09385, N09373]  [N09404, N09409, N09385, N09373]   \n\n                    Одинаковые узлы  \n0  [N09404, N09409, N09385, N09373]  ",
      "text/html": "<div>\n<style scoped>\n    .dataframe tbody tr th:only-of-type {\n        vertical-align: middle;\n    }\n\n    .dataframe tbody tr th {\n        vertical-align: top;\n    }\n\n    .dataframe thead th {\n        text-align: right;\n    }\n</style>\n<table border=\"1\" class=\"dataframe\">\n  <thead>\n    <tr style=\"text-align: right;\">\n      <th></th>\n      <th>Пут1</th>\n      <th>Длина1</th>\n      <th>Путь2</th>\n      <th>Длина2</th>\n      <th>Одинаковые узлы</th>\n    </tr>\n  </thead>\n  <tbody>\n    <tr>\n      <th>0</th>\n      <td>[N09404, N09409, N09385, N09373]</td>\n      <td>[N09404, N09409, N09385, N09373]</td>\n      <td>[N09404, N09409, N09385, N09373]</td>\n      <td>[N09404, N09409, N09385, N09373]</td>\n      <td>[N09404, N09409, N09385, N09373]</td>\n    </tr>\n  </tbody>\n</table>\n</div>"
     },
     "metadata": {},
     "output_type": "display_data"
    }
   ],
   "source": [
    "a = ['N09404', 'N09409', 'N09385', 'N09373']\n",
    "print(DF.shape[1])\n",
    "for i in range(DF.shape[1]):\n",
    "    DF.iat[0,i] = a\n",
    "display(DF)"
   ],
   "metadata": {
    "collapsed": false,
    "pycharm": {
     "name": "#%%\n"
    }
   }
  },
  {
   "cell_type": "code",
   "execution_count": 116,
   "outputs": [
    {
     "name": "stdout",
     "output_type": "stream",
     "text": [
      "  Путь1 Длина1 Путь2 Длина2 Одинаковые узлы\n",
      "0     1      1     1      1               1\n",
      "1     1      1     1      1               1\n",
      "2     1      1     1      1               1\n",
      "3     1      1     1      1               1\n",
      "4     1      1     1      1               1\n",
      "5     1      1     1      1               1\n",
      "6     1      1     1      1               1\n",
      "7     1      1     1      1               1\n",
      "8     1      1     1      1               1\n",
      "9     1      1     1      1               1\n"
     ]
    }
   ],
   "source": [
    "import pandas as pd\n",
    "a =[]\n",
    "for i in range(10):\n",
    "    a.append(i)\n",
    "\n",
    "Dir = pd.DataFrame(index=a, columns=['Путь1', 'Длина1', 'Путь2', 'Длина2', 'Одинаковые узлы'])\n",
    "\n",
    "for i in range(Dir.shape[0]):\n",
    "    if(str(Dir.iat[i, 0]).lower() == 'nan'):\n",
    "        for b in range(Dir.shape[1]):\n",
    "            Dir.iat[i, b] = 1\n",
    "print(Dir)"
   ],
   "metadata": {
    "collapsed": false,
    "pycharm": {
     "name": "#%%\n"
    }
   }
  },
  {
   "cell_type": "code",
   "execution_count": null,
   "outputs": [],
   "source": [],
   "metadata": {
    "collapsed": false,
    "pycharm": {
     "name": "#%%\n"
    }
   }
  }
 ],
 "metadata": {
  "kernelspec": {
   "display_name": "Python 3",
   "language": "python",
   "name": "python3"
  },
  "language_info": {
   "codemirror_mode": {
    "name": "ipython",
    "version": 2
   },
   "file_extension": ".py",
   "mimetype": "text/x-python",
   "name": "python",
   "nbconvert_exporter": "python",
   "pygments_lexer": "ipython2",
   "version": "2.7.6"
  }
 },
 "nbformat": 4,
 "nbformat_minor": 0
}